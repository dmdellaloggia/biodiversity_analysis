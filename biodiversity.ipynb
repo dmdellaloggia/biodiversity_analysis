{
 "cells": [
  {
   "cell_type": "markdown",
   "metadata": {},
   "source": [
    "# Biodiversity in National Parks\n",
    "***\n",
    "\n",
    "## Introduction\n",
    "\n",
    "This analysis uses data about endangered species in different parks from the National Parks Service. The analysis looks at the conservation statuses of these species and investigates if there are any patterns or themes to the types of species that become at risk. The data for this project is *inspired* by real data, but is mostly fictional.\n",
    "\n",
    "***\n",
    "\n",
    "**Data source:**\n",
    "\n",
    "Both `Observations.csv` and `Species_info.csv` were provided by [Codecademy.com](https://www.codecademy.com).\n",
    "\n",
    "***\n",
    "\n",
    "Some of the big questions addressed in this analysis:\n",
    "\n",
    "- *What proportion of each category are `at_risk`?*\n",
    "    - The categories range from 1.0% to 17.0% `percent_at_risk`. The proportions fall into the categories:\n",
    "        - `Vascular Plant`: 1.1%\n",
    "        - `Nonvascular Plant`: 1.5%\n",
    "        - `Reptile`: 6.4%\n",
    "        - `Amphibian`: 8.9%\n",
    "        - `Fish`: 8.8%\n",
    "        - `Bird`: 15.4%\n",
    "        - `Mammal`: 17.0%\n",
    "- *Are certain categories more likely to be `at_risk`?*\n",
    "    - Mammals are more likely to be at risk than Reptiles, Nonvascular Plants, and Vascular Plants.\n",
    "    - Mammals are not more likely to be at risk than Birds, Fish, and Amphibians.\n",
    "- *How often were the most frequently observed animals (Bats, Hawks, Warblers, Wolves, Sparrows, and Snakes) seen at each National Park, and how many observations were of `at_risk` animals?*\n",
    "    - Of the most frequently observed animals, Warblers are observed the most but are also one of the least at risk; as expected, Bats are most at risk.\n",
    "***\n",
    "The rest of the analysis goes more into the methods, analysis, and results behind each of the questions above."
   ]
  },
  {
   "cell_type": "markdown",
   "metadata": {},
   "source": [
    "***\n",
    "### Import Python Modules"
   ]
  },
  {
   "cell_type": "code",
   "execution_count": 1,
   "metadata": {},
   "outputs": [],
   "source": [
    "import pandas as pd\n",
    "import numpy as np\n",
    "from matplotlib import pyplot as plt\n",
    "from matplotlib.ticker import MultipleLocator\n",
    "import seaborn as sns\n",
    "\n",
    "%matplotlib inline"
   ]
  },
  {
   "cell_type": "markdown",
   "metadata": {},
   "source": [
    "### Load and Inspect the Data\n",
    "\n",
    "***\n",
    "##### *What columns make up the dataframes?*"
   ]
  },
  {
   "cell_type": "code",
   "execution_count": 2,
   "metadata": {},
   "outputs": [
    {
     "data": {
      "text/html": [
       "<div>\n",
       "<style scoped>\n",
       "    .dataframe tbody tr th:only-of-type {\n",
       "        vertical-align: middle;\n",
       "    }\n",
       "\n",
       "    .dataframe tbody tr th {\n",
       "        vertical-align: top;\n",
       "    }\n",
       "\n",
       "    .dataframe thead th {\n",
       "        text-align: right;\n",
       "    }\n",
       "</style>\n",
       "<table border=\"1\" class=\"dataframe\">\n",
       "  <thead>\n",
       "    <tr style=\"text-align: right;\">\n",
       "      <th></th>\n",
       "      <th>category</th>\n",
       "      <th>scientific_name</th>\n",
       "      <th>common_names</th>\n",
       "      <th>conservation_status</th>\n",
       "    </tr>\n",
       "  </thead>\n",
       "  <tbody>\n",
       "    <tr>\n",
       "      <th>0</th>\n",
       "      <td>Mammal</td>\n",
       "      <td>Clethrionomys gapperi gapperi</td>\n",
       "      <td>Gapper's Red-Backed Vole</td>\n",
       "      <td>NaN</td>\n",
       "    </tr>\n",
       "    <tr>\n",
       "      <th>1</th>\n",
       "      <td>Mammal</td>\n",
       "      <td>Bos bison</td>\n",
       "      <td>American Bison, Bison</td>\n",
       "      <td>NaN</td>\n",
       "    </tr>\n",
       "    <tr>\n",
       "      <th>2</th>\n",
       "      <td>Mammal</td>\n",
       "      <td>Bos taurus</td>\n",
       "      <td>Aurochs, Aurochs, Domestic Cattle (Feral), Dom...</td>\n",
       "      <td>NaN</td>\n",
       "    </tr>\n",
       "    <tr>\n",
       "      <th>3</th>\n",
       "      <td>Mammal</td>\n",
       "      <td>Ovis aries</td>\n",
       "      <td>Domestic Sheep, Mouflon, Red Sheep, Sheep (Feral)</td>\n",
       "      <td>NaN</td>\n",
       "    </tr>\n",
       "    <tr>\n",
       "      <th>4</th>\n",
       "      <td>Mammal</td>\n",
       "      <td>Cervus elaphus</td>\n",
       "      <td>Wapiti Or Elk</td>\n",
       "      <td>NaN</td>\n",
       "    </tr>\n",
       "  </tbody>\n",
       "</table>\n",
       "</div>"
      ],
      "text/plain": [
       "  category                scientific_name  \\\n",
       "0   Mammal  Clethrionomys gapperi gapperi   \n",
       "1   Mammal                      Bos bison   \n",
       "2   Mammal                     Bos taurus   \n",
       "3   Mammal                     Ovis aries   \n",
       "4   Mammal                 Cervus elaphus   \n",
       "\n",
       "                                        common_names conservation_status  \n",
       "0                           Gapper's Red-Backed Vole                 NaN  \n",
       "1                              American Bison, Bison                 NaN  \n",
       "2  Aurochs, Aurochs, Domestic Cattle (Feral), Dom...                 NaN  \n",
       "3  Domestic Sheep, Mouflon, Red Sheep, Sheep (Feral)                 NaN  \n",
       "4                                      Wapiti Or Elk                 NaN  "
      ]
     },
     "execution_count": 2,
     "metadata": {},
     "output_type": "execute_result"
    }
   ],
   "source": [
    "species = pd.read_csv(\"species_info.csv\")\n",
    "species.head()"
   ]
  },
  {
   "cell_type": "markdown",
   "metadata": {},
   "source": [
    "The `species` dataframe has information on the different species in National Parks. The columns are:\n",
    "- *category:* The category of taxonomy for each species\n",
    "- *scientific_name:* The scientific name of each species\n",
    "- *common_names:* The common names of each species\n",
    "- *conservation_status:* The species conservation status"
   ]
  },
  {
   "cell_type": "code",
   "execution_count": 3,
   "metadata": {
    "scrolled": true
   },
   "outputs": [
    {
     "data": {
      "text/html": [
       "<div>\n",
       "<style scoped>\n",
       "    .dataframe tbody tr th:only-of-type {\n",
       "        vertical-align: middle;\n",
       "    }\n",
       "\n",
       "    .dataframe tbody tr th {\n",
       "        vertical-align: top;\n",
       "    }\n",
       "\n",
       "    .dataframe thead th {\n",
       "        text-align: right;\n",
       "    }\n",
       "</style>\n",
       "<table border=\"1\" class=\"dataframe\">\n",
       "  <thead>\n",
       "    <tr style=\"text-align: right;\">\n",
       "      <th></th>\n",
       "      <th>scientific_name</th>\n",
       "      <th>park_name</th>\n",
       "      <th>observations</th>\n",
       "    </tr>\n",
       "  </thead>\n",
       "  <tbody>\n",
       "    <tr>\n",
       "      <th>0</th>\n",
       "      <td>Vicia benghalensis</td>\n",
       "      <td>Great Smoky Mountains National Park</td>\n",
       "      <td>68</td>\n",
       "    </tr>\n",
       "    <tr>\n",
       "      <th>1</th>\n",
       "      <td>Neovison vison</td>\n",
       "      <td>Great Smoky Mountains National Park</td>\n",
       "      <td>77</td>\n",
       "    </tr>\n",
       "    <tr>\n",
       "      <th>2</th>\n",
       "      <td>Prunus subcordata</td>\n",
       "      <td>Yosemite National Park</td>\n",
       "      <td>138</td>\n",
       "    </tr>\n",
       "    <tr>\n",
       "      <th>3</th>\n",
       "      <td>Abutilon theophrasti</td>\n",
       "      <td>Bryce National Park</td>\n",
       "      <td>84</td>\n",
       "    </tr>\n",
       "    <tr>\n",
       "      <th>4</th>\n",
       "      <td>Githopsis specularioides</td>\n",
       "      <td>Great Smoky Mountains National Park</td>\n",
       "      <td>85</td>\n",
       "    </tr>\n",
       "  </tbody>\n",
       "</table>\n",
       "</div>"
      ],
      "text/plain": [
       "            scientific_name                            park_name  observations\n",
       "0        Vicia benghalensis  Great Smoky Mountains National Park            68\n",
       "1            Neovison vison  Great Smoky Mountains National Park            77\n",
       "2         Prunus subcordata               Yosemite National Park           138\n",
       "3      Abutilon theophrasti                  Bryce National Park            84\n",
       "4  Githopsis specularioides  Great Smoky Mountains National Park            85"
      ]
     },
     "execution_count": 3,
     "metadata": {},
     "output_type": "execute_result"
    }
   ],
   "source": [
    "observations = pd.read_csv(\"observations.csv\")\n",
    "observations.head()"
   ]
  },
  {
   "cell_type": "markdown",
   "metadata": {},
   "source": [
    "The `observations` dataframe has information from recorded sightings of different species throughout national parks in the past 7 days. The columns are:\n",
    "- *scientific_name:* The scientific name of each species\n",
    "- *park_name:* The name of the national park\n",
    "- *observations:* The number of observations in the past 7 days"
   ]
  },
  {
   "cell_type": "markdown",
   "metadata": {},
   "source": [
    "***\n",
    "##### *What shape are the dataframes?*"
   ]
  },
  {
   "cell_type": "code",
   "execution_count": 4,
   "metadata": {},
   "outputs": [
    {
     "name": "stdout",
     "output_type": "stream",
     "text": [
      "species shape: (5824, 4)\n",
      "observations shape: (23296, 3)\n"
     ]
    }
   ],
   "source": [
    "print(f\"species shape: {species.shape}\")\n",
    "print(f\"observations shape: {observations.shape}\")"
   ]
  },
  {
   "cell_type": "markdown",
   "metadata": {},
   "source": [
    "The `species` dataframe contains 5,824 rows and 4 columns.\n",
    "The `observations` dataframe contains 23,296 rows and 3 columns."
   ]
  },
  {
   "cell_type": "markdown",
   "metadata": {},
   "source": [
    "***\n",
    "### Explore `species` Data\n",
    "\n",
    "***\n",
    "##### *How many species are represented in the dataframe?*"
   ]
  },
  {
   "cell_type": "code",
   "execution_count": 5,
   "metadata": {},
   "outputs": [
    {
     "name": "stdout",
     "output_type": "stream",
     "text": [
      "number of species: 5541\n"
     ]
    }
   ],
   "source": [
    "print(f\"number of species: {species.scientific_name.nunique()}\")"
   ]
  },
  {
   "cell_type": "markdown",
   "metadata": {},
   "source": [
    "The 5,541 unique scientific names indicate the dataframe contains this many unique species."
   ]
  },
  {
   "cell_type": "markdown",
   "metadata": {},
   "source": [
    "***\n",
    "##### *What values does the `category` column contain?*"
   ]
  },
  {
   "cell_type": "code",
   "execution_count": 6,
   "metadata": {},
   "outputs": [
    {
     "name": "stdout",
     "output_type": "stream",
     "text": [
      "categories: ['Mammal' 'Bird' 'Reptile' 'Amphibian' 'Fish' 'Vascular Plant'\n",
      " 'Nonvascular Plant']\n"
     ]
    }
   ],
   "source": [
    "print(f\"categories: {species.category.unique()}\")"
   ]
  },
  {
   "cell_type": "markdown",
   "metadata": {},
   "source": [
    "The `category` column contains the 7 values: `Mammal`, `Bird`, `Reptile`, `Amphibian`, `Fish`, `Vascular Plant`, and `Nonvascular Plant`."
   ]
  },
  {
   "cell_type": "markdown",
   "metadata": {},
   "source": [
    "***\n",
    "##### *How many species are contained in each `category`?*"
   ]
  },
  {
   "cell_type": "code",
   "execution_count": 7,
   "metadata": {},
   "outputs": [
    {
     "data": {
      "text/plain": [
       "Vascular Plant       4470\n",
       "Bird                  521\n",
       "Nonvascular Plant     333\n",
       "Mammal                214\n",
       "Fish                  127\n",
       "Amphibian              80\n",
       "Reptile                79\n",
       "Name: category, dtype: int64"
      ]
     },
     "execution_count": 7,
     "metadata": {},
     "output_type": "execute_result"
    }
   ],
   "source": [
    "species.category.value_counts()"
   ]
  },
  {
   "cell_type": "markdown",
   "metadata": {},
   "source": [
    "The `Vascular Plant` category contains the most species by far with 4,470. The `Bird` category is second containing 521 species."
   ]
  },
  {
   "cell_type": "markdown",
   "metadata": {},
   "source": [
    "***\n",
    "##### *What values does the `conservation_status` column contain?*"
   ]
  },
  {
   "cell_type": "code",
   "execution_count": 8,
   "metadata": {
    "scrolled": true
   },
   "outputs": [
    {
     "name": "stdout",
     "output_type": "stream",
     "text": [
      "unique conservation statuses: [nan 'Species of Concern' 'Endangered' 'Threatened' 'In Recovery']\n"
     ]
    }
   ],
   "source": [
    "print(f\"unique conservation statuses: {species.conservation_status.unique()}\")"
   ]
  },
  {
   "cell_type": "markdown",
   "metadata": {},
   "source": [
    "In order of gravity, the `conservation_status` column contains the 4 values: `nan`, `Species of Concern`, `In Recovery` `Threatened`, `Endangered`."
   ]
  },
  {
   "cell_type": "markdown",
   "metadata": {},
   "source": [
    "***\n",
    "##### *How many `nan` values does the `conservation_status` column contain?*"
   ]
  },
  {
   "cell_type": "code",
   "execution_count": 9,
   "metadata": {},
   "outputs": [
    {
     "name": "stdout",
     "output_type": "stream",
     "text": [
      "na values:5633\n"
     ]
    }
   ],
   "source": [
    "print(f\"na values:{species.conservation_status.isna().sum()}\")"
   ]
  },
  {
   "cell_type": "markdown",
   "metadata": {},
   "source": [
    "The `conservation_status` column contains 5,633 `nan` values; the absence of data here indicates these species are not under any conservation status."
   ]
  },
  {
   "cell_type": "markdown",
   "metadata": {},
   "source": [
    "***\n",
    "##### *How many species make up each `conservation_status`?*"
   ]
  },
  {
   "cell_type": "code",
   "execution_count": 10,
   "metadata": {},
   "outputs": [
    {
     "data": {
      "text/html": [
       "<div>\n",
       "<style scoped>\n",
       "    .dataframe tbody tr th:only-of-type {\n",
       "        vertical-align: middle;\n",
       "    }\n",
       "\n",
       "    .dataframe tbody tr th {\n",
       "        vertical-align: top;\n",
       "    }\n",
       "\n",
       "    .dataframe thead th {\n",
       "        text-align: right;\n",
       "    }\n",
       "</style>\n",
       "<table border=\"1\" class=\"dataframe\">\n",
       "  <thead>\n",
       "    <tr style=\"text-align: right;\">\n",
       "      <th></th>\n",
       "      <th>conservation_status</th>\n",
       "    </tr>\n",
       "  </thead>\n",
       "  <tbody>\n",
       "    <tr>\n",
       "      <th>Species of Concern</th>\n",
       "      <td>161</td>\n",
       "    </tr>\n",
       "    <tr>\n",
       "      <th>Endangered</th>\n",
       "      <td>16</td>\n",
       "    </tr>\n",
       "    <tr>\n",
       "      <th>Threatened</th>\n",
       "      <td>10</td>\n",
       "    </tr>\n",
       "    <tr>\n",
       "      <th>In Recovery</th>\n",
       "      <td>4</td>\n",
       "    </tr>\n",
       "  </tbody>\n",
       "</table>\n",
       "</div>"
      ],
      "text/plain": [
       "                    conservation_status\n",
       "Species of Concern                  161\n",
       "Endangered                           16\n",
       "Threatened                           10\n",
       "In Recovery                           4"
      ]
     },
     "execution_count": 10,
     "metadata": {},
     "output_type": "execute_result"
    }
   ],
   "source": [
    "species.conservation_status.value_counts().to_frame()"
   ]
  },
  {
   "cell_type": "markdown",
   "metadata": {},
   "source": [
    "The majority of species are not at risk. There are 161 `Species of Concern`, 16 `Endangered`, 10 `Threatened`, and 4 `In Recovery`. "
   ]
  },
  {
   "cell_type": "markdown",
   "metadata": {},
   "source": [
    "To allow further analysis based on gravity, the `nan` values must be replaced with `Low Risk` and the conservation statuses sorted and applied as sorted categoricals."
   ]
  },
  {
   "cell_type": "code",
   "execution_count": 11,
   "metadata": {},
   "outputs": [],
   "source": [
    "#replace nan values\n",
    "species.fillna(\"Low Risk\", inplace=True)\n",
    "\n",
    "#sort conservation statuses\n",
    "species.conservation_status = pd.Categorical(species.conservation_status,\\\n",
    "                                             categories=[\"Low Risk\", \"Species of Concern\", \"In Recovery\",\\\n",
    "                                                        \"Threatened\", \"Endangered\"], ordered=True)"
   ]
  },
  {
   "cell_type": "markdown",
   "metadata": {},
   "source": [
    "***\n",
    "##### *How many at risk species from each `category` make up each `conservation_status`?*"
   ]
  },
  {
   "cell_type": "code",
   "execution_count": 12,
   "metadata": {},
   "outputs": [
    {
     "data": {
      "text/html": [
       "<div>\n",
       "<style scoped>\n",
       "    .dataframe tbody tr th:only-of-type {\n",
       "        vertical-align: middle;\n",
       "    }\n",
       "\n",
       "    .dataframe tbody tr th {\n",
       "        vertical-align: top;\n",
       "    }\n",
       "\n",
       "    .dataframe thead th {\n",
       "        text-align: right;\n",
       "    }\n",
       "</style>\n",
       "<table border=\"1\" class=\"dataframe\">\n",
       "  <thead>\n",
       "    <tr style=\"text-align: right;\">\n",
       "      <th></th>\n",
       "      <th>conservation_status</th>\n",
       "    </tr>\n",
       "  </thead>\n",
       "  <tbody>\n",
       "    <tr>\n",
       "      <th>Species of Concern</th>\n",
       "      <td>161</td>\n",
       "    </tr>\n",
       "    <tr>\n",
       "      <th>Endangered</th>\n",
       "      <td>16</td>\n",
       "    </tr>\n",
       "    <tr>\n",
       "      <th>Threatened</th>\n",
       "      <td>10</td>\n",
       "    </tr>\n",
       "    <tr>\n",
       "      <th>In Recovery</th>\n",
       "      <td>4</td>\n",
       "    </tr>\n",
       "  </tbody>\n",
       "</table>\n",
       "</div>"
      ],
      "text/plain": [
       "                    conservation_status\n",
       "Species of Concern                  161\n",
       "Endangered                           16\n",
       "Threatened                           10\n",
       "In Recovery                           4"
      ]
     },
     "execution_count": 12,
     "metadata": {},
     "output_type": "execute_result"
    }
   ],
   "source": [
    "#create endangered dataframe for both species and merged_df\n",
    "endangered_species = species[~ species.conservation_status.isin(['Low Risk'])].copy()\n",
    "\n",
    "#remove low risk from categories\n",
    "endangered_species.conservation_status = endangered_species.conservation_status.cat.remove_unused_categories()\n",
    "\n",
    "endangered_species.conservation_status.value_counts(dropna=False).to_frame()"
   ]
  },
  {
   "cell_type": "code",
   "execution_count": 13,
   "metadata": {},
   "outputs": [
    {
     "data": {
      "image/png": "[encoded data removed]",
      "text/plain": [
       "<Figure size 576x360 with 1 Axes>"
      ]
     },
     "metadata": {
      "needs_background": "light"
     },
     "output_type": "display_data"
    },
    {
     "data": {
      "text/plain": [
       "<Figure size 432x288 with 0 Axes>"
      ]
     },
     "metadata": {},
     "output_type": "display_data"
    }
   ],
   "source": [
    "#create countplot\n",
    "plt.figure(figsize=[8, 5])\n",
    "sns.countplot(data=endangered_species, x=\"conservation_status\", hue=\"category\")\n",
    "plt.xlabel('Conservation Status')\n",
    "plt.ylabel('Number of Species (Thousands)')\n",
    "plt.grid(which='minor', linestyle='--', alpha=0.8)\n",
    "plt.gca().yaxis.set_minor_locator(MultipleLocator(5))\n",
    "plt.title('Risk Levels by Category')\n",
    "plt.legend(loc='upper right')\n",
    "\n",
    "plt.show()\n",
    "plt.clf()"
   ]
  },
  {
   "cell_type": "markdown",
   "metadata": {},
   "source": [
    "Both `Nonvascular Plant` and `Reptile` are only in risk level `Species of Concern`. All other categories have species in at least 3 different risk levels. Of the species in `Species of Concern` risk level, `Bird`, `Vascular Plant`, and `Mammal` are the largest categories, respectively."
   ]
  },
  {
   "cell_type": "markdown",
   "metadata": {},
   "source": [
    "***\n",
    "### Explore `observations` Data\n",
    "\n",
    "***\n",
    "##### *What parks does the `park_name` column contain?*"
   ]
  },
  {
   "cell_type": "code",
   "execution_count": 14,
   "metadata": {},
   "outputs": [
    {
     "name": "stdout",
     "output_type": "stream",
     "text": [
      "unique parks:['Great Smoky Mountains National Park' 'Yosemite National Park'\n",
      " 'Bryce National Park' 'Yellowstone National Park']\n"
     ]
    }
   ],
   "source": [
    "print(f\"unique parks:{observations.park_name.unique()}\")"
   ]
  },
  {
   "cell_type": "markdown",
   "metadata": {},
   "source": [
    "The `park_name` column contains the 4 parks: `Great Smoky Mountains National Park`, `Yosemite National Park`, `Bryce National Park`, `Yellowstone National Park`."
   ]
  },
  {
   "cell_type": "markdown",
   "metadata": {},
   "source": [
    "Since each entry in the `park_name` column ends with `National Park`, the string should be removed to save space."
   ]
  },
  {
   "cell_type": "code",
   "execution_count": 15,
   "metadata": {},
   "outputs": [],
   "source": [
    "#remove 'national park' from park_name\n",
    "observations.park_name = observations.park_name.str.replace('national park','', case=False)"
   ]
  },
  {
   "cell_type": "markdown",
   "metadata": {},
   "source": [
    "***\n",
    "##### *How many observations are represented in the dataframe?*"
   ]
  },
  {
   "cell_type": "code",
   "execution_count": 16,
   "metadata": {},
   "outputs": [
    {
     "name": "stdout",
     "output_type": "stream",
     "text": [
      "number of observations:3314739\n"
     ]
    }
   ],
   "source": [
    "print(f\"number of observations:{observations.observations.sum()}\")"
   ]
  },
  {
   "cell_type": "markdown",
   "metadata": {},
   "source": [
    "The dataframe contains 3,314,739 observations."
   ]
  },
  {
   "cell_type": "markdown",
   "metadata": {},
   "source": [
    "***\n",
    "### Join `species` and `observations` dataframes into a single dataframe\n",
    "\n",
    "Joining the two dataframes will allow for a more in depth analysis. Only the highest risk (or worst case) conservation status for each duplicated species will be kept in the joined dataframe."
   ]
  },
  {
   "cell_type": "markdown",
   "metadata": {},
   "source": [
    "***\n",
    "##### *How many duplicates does the dataframe contain?*"
   ]
  },
  {
   "cell_type": "code",
   "execution_count": 17,
   "metadata": {},
   "outputs": [
    {
     "name": "stdout",
     "output_type": "stream",
     "text": [
      "Duplicates: 557\n"
     ]
    }
   ],
   "source": [
    "#collect duplicates\n",
    "species_duplicates = species[species.scientific_name.duplicated(keep=False)]\n",
    "print(f\"Duplicates: {len(species_duplicates)}\")"
   ]
  },
  {
   "cell_type": "code",
   "execution_count": 18,
   "metadata": {},
   "outputs": [
    {
     "data": {
      "text/html": [
       "<style  type=\"text/css\" >\n",
       "</style><table id=\"T_2b05e_\" ><caption>Canis Lupus duplicates before removal</caption><thead>    <tr>        <th class=\"blank level0\" ></th>        <th class=\"col_heading level0 col0\" >category</th>        <th class=\"col_heading level0 col1\" >scientific_name</th>        <th class=\"col_heading level0 col2\" >common_names</th>        <th class=\"col_heading level0 col3\" >conservation_status</th>    </tr></thead><tbody>\n",
       "                <tr>\n",
       "                        <th id=\"T_2b05e_level0_row0\" class=\"row_heading level0 row0\" >0</th>\n",
       "                        <td id=\"T_2b05e_row0_col0\" class=\"data row0 col0\" >Mammal</td>\n",
       "                        <td id=\"T_2b05e_row0_col1\" class=\"data row0 col1\" >Canis lupus</td>\n",
       "                        <td id=\"T_2b05e_row0_col2\" class=\"data row0 col2\" >Gray Wolf</td>\n",
       "                        <td id=\"T_2b05e_row0_col3\" class=\"data row0 col3\" >Endangered</td>\n",
       "            </tr>\n",
       "            <tr>\n",
       "                        <th id=\"T_2b05e_level0_row1\" class=\"row_heading level0 row1\" >1</th>\n",
       "                        <td id=\"T_2b05e_row1_col0\" class=\"data row1 col0\" >Mammal</td>\n",
       "                        <td id=\"T_2b05e_row1_col1\" class=\"data row1 col1\" >Canis lupus</td>\n",
       "                        <td id=\"T_2b05e_row1_col2\" class=\"data row1 col2\" >Gray Wolf, Wolf</td>\n",
       "                        <td id=\"T_2b05e_row1_col3\" class=\"data row1 col3\" >In Recovery</td>\n",
       "            </tr>\n",
       "            <tr>\n",
       "                        <th id=\"T_2b05e_level0_row2\" class=\"row_heading level0 row2\" >2</th>\n",
       "                        <td id=\"T_2b05e_row2_col0\" class=\"data row2 col0\" >Mammal</td>\n",
       "                        <td id=\"T_2b05e_row2_col1\" class=\"data row2 col1\" >Canis lupus</td>\n",
       "                        <td id=\"T_2b05e_row2_col2\" class=\"data row2 col2\" >Gray Wolf, Wolf</td>\n",
       "                        <td id=\"T_2b05e_row2_col3\" class=\"data row2 col3\" >Endangered</td>\n",
       "            </tr>\n",
       "    </tbody></table>"
      ],
      "text/plain": [
       "<pandas.io.formats.style.Styler at 0x176c5a9aa60>"
      ]
     },
     "execution_count": 18,
     "metadata": {},
     "output_type": "execute_result"
    }
   ],
   "source": [
    "#example before duplicate removal\n",
    "before = species[species.scientific_name.str.contains(\"Canis lupus\")].reset_index(drop=True)\n",
    "before = before.style.set_caption(\"Canis Lupus duplicates before removal\")\n",
    "\n",
    "#drop duplicates\n",
    "species.drop_duplicates(inplace=True, subset=\"scientific_name\", keep=\"first\")\n",
    "species.reset_index(drop=True, inplace=True)\n",
    "\n",
    "before"
   ]
  },
  {
   "cell_type": "code",
   "execution_count": 19,
   "metadata": {},
   "outputs": [
    {
     "data": {
      "text/html": [
       "<style  type=\"text/css\" >\n",
       "</style><table id=\"T_35d53_\" ><caption>Canis Lupus duplicates after removal</caption><thead>    <tr>        <th class=\"blank level0\" ></th>        <th class=\"col_heading level0 col0\" >category</th>        <th class=\"col_heading level0 col1\" >scientific_name</th>        <th class=\"col_heading level0 col2\" >common_names</th>        <th class=\"col_heading level0 col3\" >conservation_status</th>    </tr></thead><tbody>\n",
       "                <tr>\n",
       "                        <th id=\"T_35d53_level0_row0\" class=\"row_heading level0 row0\" >0</th>\n",
       "                        <td id=\"T_35d53_row0_col0\" class=\"data row0 col0\" >Mammal</td>\n",
       "                        <td id=\"T_35d53_row0_col1\" class=\"data row0 col1\" >Canis lupus</td>\n",
       "                        <td id=\"T_35d53_row0_col2\" class=\"data row0 col2\" >Gray Wolf</td>\n",
       "                        <td id=\"T_35d53_row0_col3\" class=\"data row0 col3\" >Endangered</td>\n",
       "            </tr>\n",
       "    </tbody></table>"
      ],
      "text/plain": [
       "<pandas.io.formats.style.Styler at 0x176c5148f10>"
      ]
     },
     "execution_count": 19,
     "metadata": {},
     "output_type": "execute_result"
    }
   ],
   "source": [
    "#separate out worst cases\n",
    "worst_cases = species_duplicates.groupby(\"scientific_name\").conservation_status.max()\n",
    "\n",
    "#update the status for each duplicate kept\n",
    "for name, highest_risk in worst_cases.iteritems():\n",
    "    species.conservation_status[species.scientific_name == name] = highest_risk\n",
    "    \n",
    "#example after duplicate removal\n",
    "after = species[species.scientific_name.str.contains(\"Canis lupus\")].reset_index(drop=True)\n",
    "after = after.style.set_caption(\"Canis Lupus duplicates after removal\")\n",
    "\n",
    "after"
   ]
  },
  {
   "cell_type": "code",
   "execution_count": 20,
   "metadata": {
    "tags": []
   },
   "outputs": [
    {
     "data": {
      "text/html": [
       "<div>\n",
       "<style scoped>\n",
       "    .dataframe tbody tr th:only-of-type {\n",
       "        vertical-align: middle;\n",
       "    }\n",
       "\n",
       "    .dataframe tbody tr th {\n",
       "        vertical-align: top;\n",
       "    }\n",
       "\n",
       "    .dataframe thead th {\n",
       "        text-align: right;\n",
       "    }\n",
       "</style>\n",
       "<table border=\"1\" class=\"dataframe\">\n",
       "  <thead>\n",
       "    <tr style=\"text-align: right;\">\n",
       "      <th></th>\n",
       "      <th>category</th>\n",
       "      <th>scientific_name</th>\n",
       "      <th>common_names</th>\n",
       "      <th>conservation_status</th>\n",
       "      <th>park_name</th>\n",
       "      <th>observations</th>\n",
       "    </tr>\n",
       "  </thead>\n",
       "  <tbody>\n",
       "    <tr>\n",
       "      <th>0</th>\n",
       "      <td>Mammal</td>\n",
       "      <td>Clethrionomys gapperi gapperi</td>\n",
       "      <td>Gapper's Red-Backed Vole</td>\n",
       "      <td>Low Risk</td>\n",
       "      <td>Bryce</td>\n",
       "      <td>130</td>\n",
       "    </tr>\n",
       "    <tr>\n",
       "      <th>1</th>\n",
       "      <td>Mammal</td>\n",
       "      <td>Clethrionomys gapperi gapperi</td>\n",
       "      <td>Gapper's Red-Backed Vole</td>\n",
       "      <td>Low Risk</td>\n",
       "      <td>Yellowstone</td>\n",
       "      <td>270</td>\n",
       "    </tr>\n",
       "    <tr>\n",
       "      <th>2</th>\n",
       "      <td>Mammal</td>\n",
       "      <td>Clethrionomys gapperi gapperi</td>\n",
       "      <td>Gapper's Red-Backed Vole</td>\n",
       "      <td>Low Risk</td>\n",
       "      <td>Great Smoky Mountains</td>\n",
       "      <td>98</td>\n",
       "    </tr>\n",
       "    <tr>\n",
       "      <th>3</th>\n",
       "      <td>Mammal</td>\n",
       "      <td>Clethrionomys gapperi gapperi</td>\n",
       "      <td>Gapper's Red-Backed Vole</td>\n",
       "      <td>Low Risk</td>\n",
       "      <td>Yosemite</td>\n",
       "      <td>117</td>\n",
       "    </tr>\n",
       "    <tr>\n",
       "      <th>4</th>\n",
       "      <td>Mammal</td>\n",
       "      <td>Bos bison</td>\n",
       "      <td>American Bison, Bison</td>\n",
       "      <td>Low Risk</td>\n",
       "      <td>Yosemite</td>\n",
       "      <td>128</td>\n",
       "    </tr>\n",
       "  </tbody>\n",
       "</table>\n",
       "</div>"
      ],
      "text/plain": [
       "  category                scientific_name              common_names  \\\n",
       "0   Mammal  Clethrionomys gapperi gapperi  Gapper's Red-Backed Vole   \n",
       "1   Mammal  Clethrionomys gapperi gapperi  Gapper's Red-Backed Vole   \n",
       "2   Mammal  Clethrionomys gapperi gapperi  Gapper's Red-Backed Vole   \n",
       "3   Mammal  Clethrionomys gapperi gapperi  Gapper's Red-Backed Vole   \n",
       "4   Mammal                      Bos bison     American Bison, Bison   \n",
       "\n",
       "  conservation_status               park_name  observations  \n",
       "0            Low Risk                  Bryce            130  \n",
       "1            Low Risk            Yellowstone            270  \n",
       "2            Low Risk  Great Smoky Mountains             98  \n",
       "3            Low Risk               Yosemite            117  \n",
       "4            Low Risk               Yosemite            128  "
      ]
     },
     "execution_count": 20,
     "metadata": {},
     "output_type": "execute_result"
    }
   ],
   "source": [
    "#merge dataframes\n",
    "merged_df = species.merge(observations, on=\"scientific_name\", how=\"outer\")\n",
    "\n",
    "merged_df.head()"
   ]
  },
  {
   "cell_type": "markdown",
   "metadata": {},
   "source": [
    "***\n",
    "### Explore Merged Data\n",
    "\n",
    "***\n",
    "##### *How frequently was each `category` observed?*"
   ]
  },
  {
   "cell_type": "code",
   "execution_count": 21,
   "metadata": {},
   "outputs": [
    {
     "data": {
      "image/png": "[encoded data removed]",
      "text/plain": [
       "<Figure size 720x504 with 1 Axes>"
      ]
     },
     "metadata": {},
     "output_type": "display_data"
    },
    {
     "data": {
      "text/html": [
       "<div>\n",
       "<style scoped>\n",
       "    .dataframe tbody tr th:only-of-type {\n",
       "        vertical-align: middle;\n",
       "    }\n",
       "\n",
       "    .dataframe tbody tr th {\n",
       "        vertical-align: top;\n",
       "    }\n",
       "\n",
       "    .dataframe thead th {\n",
       "        text-align: right;\n",
       "    }\n",
       "</style>\n",
       "<table border=\"1\" class=\"dataframe\">\n",
       "  <thead>\n",
       "    <tr style=\"text-align: right;\">\n",
       "      <th></th>\n",
       "      <th>category</th>\n",
       "      <th>observations</th>\n",
       "    </tr>\n",
       "  </thead>\n",
       "  <tbody>\n",
       "    <tr>\n",
       "      <th>0</th>\n",
       "      <td>Vascular Plant</td>\n",
       "      <td>2555090</td>\n",
       "    </tr>\n",
       "    <tr>\n",
       "      <th>1</th>\n",
       "      <td>Bird</td>\n",
       "      <td>292833</td>\n",
       "    </tr>\n",
       "    <tr>\n",
       "      <th>2</th>\n",
       "      <td>Nonvascular Plant</td>\n",
       "      <td>190653</td>\n",
       "    </tr>\n",
       "    <tr>\n",
       "      <th>3</th>\n",
       "      <td>Mammal</td>\n",
       "      <td>116696</td>\n",
       "    </tr>\n",
       "    <tr>\n",
       "      <th>4</th>\n",
       "      <td>Fish</td>\n",
       "      <td>70818</td>\n",
       "    </tr>\n",
       "    <tr>\n",
       "      <th>5</th>\n",
       "      <td>Reptile</td>\n",
       "      <td>44678</td>\n",
       "    </tr>\n",
       "    <tr>\n",
       "      <th>6</th>\n",
       "      <td>Amphibian</td>\n",
       "      <td>43971</td>\n",
       "    </tr>\n",
       "  </tbody>\n",
       "</table>\n",
       "</div>"
      ],
      "text/plain": [
       "            category  observations\n",
       "0     Vascular Plant       2555090\n",
       "1               Bird        292833\n",
       "2  Nonvascular Plant        190653\n",
       "3             Mammal        116696\n",
       "4               Fish         70818\n",
       "5            Reptile         44678\n",
       "6          Amphibian         43971"
      ]
     },
     "execution_count": 21,
     "metadata": {},
     "output_type": "execute_result"
    },
    {
     "data": {
      "text/plain": [
       "<Figure size 432x288 with 0 Axes>"
      ]
     },
     "metadata": {},
     "output_type": "display_data"
    }
   ],
   "source": [
    "#theme preferences\n",
    "sns.set_theme(style='ticks', rc={'axes.grid': True})\n",
    "\n",
    "#create grouped frame with category and observations\n",
    "cat_obs_df = merged_df[['category', 'observations']].groupby('category').sum()\\\n",
    "                                                      .sort_values('observations', ascending=False)\\\n",
    "                                                      .reset_index()\n",
    "\n",
    "#create bar plot\n",
    "plt.figure(figsize=[10, 7])\n",
    "sns.barplot(x=cat_obs_df.category, y=cat_obs_df.observations)\n",
    "plt.xlabel('Category')\n",
    "plt.ylabel('Observations')\n",
    "plt.yscale('log')\n",
    "plt.grid(which='minor', linestyle='--')\n",
    "plt.gca().yaxis.set_major_formatter(lambda x, pos: '0' if x==0 else '{:.0f}k'.format(x * 1e-3))\n",
    "plt.gca().yaxis.set_minor_formatter(lambda x, pos: '0' if x==0 else '{:.0f}k'.format(x * 1e-3))\n",
    "plt.tick_params(which='minor', labelsize = 9)\n",
    "\n",
    "plt.show()\n",
    "plt.clf()\n",
    "\n",
    "#show table\n",
    "cat_obs_df"
   ]
  },
  {
   "cell_type": "markdown",
   "metadata": {},
   "source": [
    "`Vascular Plant` is the most frequently spotted category, and `Bird` is the most frequently spotted animal."
   ]
  },
  {
   "cell_type": "markdown",
   "metadata": {},
   "source": [
    "***\n",
    "##### *How many observations occurred in each National Park?*"
   ]
  },
  {
   "cell_type": "code",
   "execution_count": 22,
   "metadata": {},
   "outputs": [
    {
     "data": {
      "image/png": "[encoded data removed]",
      "text/plain": [
       "<Figure size 576x288 with 1 Axes>"
      ]
     },
     "metadata": {},
     "output_type": "display_data"
    },
    {
     "data": {
      "text/plain": [
       "<Figure size 432x288 with 0 Axes>"
      ]
     },
     "metadata": {},
     "output_type": "display_data"
    }
   ],
   "source": [
    "#create dataframe with parks and observations\n",
    "obs_park_df = merged_df.pivot_table(index='park_name', columns='category', values='observations', aggfunc=sum)\n",
    "#convert values to percentage\n",
    "obs_park_df = obs_park_df.apply(lambda x: x/x.sum()*100, axis=1)\n",
    "#adjust row/column description\n",
    "obs_park_df.rename_axis('Park name', inplace=True)\n",
    "obs_park_df.rename_axis('Category', axis='columns', inplace=True)\n",
    "\n",
    "#create bar plot of absolute values of observations\n",
    "plt.figure(figsize=[8, 4])\n",
    "sns.barplot(data=merged_df, x='park_name', y='observations', estimator=sum, ci=None)\n",
    "plt.xlabel('Park')\n",
    "plt.ylabel('Observations')\n",
    "plt.grid(b=True, which='minor', linestyle='--', alpha=0.8)\n",
    "plt.gca().yaxis.set_major_formatter(lambda x, pos: '0' if x==0 else '{:.0f}k'.format(x * 1e-3))\n",
    "plt.gca().yaxis.set_minor_formatter(lambda x, pos: '0' if x==0 else '{:.0f}k'.format(x * 1e-3))\n",
    "plt.title('Observations in National Parks')\n",
    "\n",
    "plt.show()\n",
    "plt.clf()"
   ]
  },
  {
   "cell_type": "markdown",
   "metadata": {},
   "source": [
    "Most observations (about 1.41 million) occurrecd in Yellowstone National Park. Great Smoky Mountains National Park"
   ]
  },
  {
   "cell_type": "markdown",
   "metadata": {},
   "source": [
    "***\n",
    "##### *What proportion of observations occurred at each National Park?*"
   ]
  },
  {
   "cell_type": "code",
   "execution_count": 23,
   "metadata": {},
   "outputs": [
    {
     "data": {
      "image/png": "[encoded data removed]",
      "text/plain": [
       "<Figure size 864x576 with 1 Axes>"
      ]
     },
     "metadata": {},
     "output_type": "display_data"
    },
    {
     "data": {
      "text/html": [
       "<style  type=\"text/css\" >\n",
       "</style><table id=\"T_b0880_\" ><caption>Observation percentages</caption><thead>    <tr>        <th class=\"index_name level0\" >Category</th>        <th class=\"col_heading level0 col0\" >Amphibian</th>        <th class=\"col_heading level0 col1\" >Bird</th>        <th class=\"col_heading level0 col2\" >Fish</th>        <th class=\"col_heading level0 col3\" >Mammal</th>        <th class=\"col_heading level0 col4\" >Nonvascular Plant</th>        <th class=\"col_heading level0 col5\" >Reptile</th>        <th class=\"col_heading level0 col6\" >Vascular Plant</th>    </tr>    <tr>        <th class=\"index_name level0\" >Park name</th>        <th class=\"blank\" ></th>        <th class=\"blank\" ></th>        <th class=\"blank\" ></th>        <th class=\"blank\" ></th>        <th class=\"blank\" ></th>        <th class=\"blank\" ></th>        <th class=\"blank\" ></th>    </tr></thead><tbody>\n",
       "                <tr>\n",
       "                        <th id=\"T_b0880_level0_row0\" class=\"row_heading level0 row0\" >Bryce </th>\n",
       "                        <td id=\"T_b0880_row0_col0\" class=\"data row0 col0\" >1.3%</td>\n",
       "                        <td id=\"T_b0880_row0_col1\" class=\"data row0 col1\" >9.0%</td>\n",
       "                        <td id=\"T_b0880_row0_col2\" class=\"data row0 col2\" >2.2%</td>\n",
       "                        <td id=\"T_b0880_row0_col3\" class=\"data row0 col3\" >3.6%</td>\n",
       "                        <td id=\"T_b0880_row0_col4\" class=\"data row0 col4\" >5.7%</td>\n",
       "                        <td id=\"T_b0880_row0_col5\" class=\"data row0 col5\" >1.4%</td>\n",
       "                        <td id=\"T_b0880_row0_col6\" class=\"data row0 col6\" >76.9%</td>\n",
       "            </tr>\n",
       "            <tr>\n",
       "                        <th id=\"T_b0880_level0_row1\" class=\"row_heading level0 row1\" >Great Smoky Mountains </th>\n",
       "                        <td id=\"T_b0880_row1_col0\" class=\"data row1 col0\" >1.3%</td>\n",
       "                        <td id=\"T_b0880_row1_col1\" class=\"data row1 col1\" >8.7%</td>\n",
       "                        <td id=\"T_b0880_row1_col2\" class=\"data row1 col2\" >2.1%</td>\n",
       "                        <td id=\"T_b0880_row1_col3\" class=\"data row1 col3\" >3.5%</td>\n",
       "                        <td id=\"T_b0880_row1_col4\" class=\"data row1 col4\" >5.8%</td>\n",
       "                        <td id=\"T_b0880_row1_col5\" class=\"data row1 col5\" >1.3%</td>\n",
       "                        <td id=\"T_b0880_row1_col6\" class=\"data row1 col6\" >77.3%</td>\n",
       "            </tr>\n",
       "            <tr>\n",
       "                        <th id=\"T_b0880_level0_row2\" class=\"row_heading level0 row2\" >Yellowstone </th>\n",
       "                        <td id=\"T_b0880_row2_col0\" class=\"data row2 col0\" >1.3%</td>\n",
       "                        <td id=\"T_b0880_row2_col1\" class=\"data row2 col1\" >8.8%</td>\n",
       "                        <td id=\"T_b0880_row2_col2\" class=\"data row2 col2\" >2.1%</td>\n",
       "                        <td id=\"T_b0880_row2_col3\" class=\"data row2 col3\" >3.5%</td>\n",
       "                        <td id=\"T_b0880_row2_col4\" class=\"data row2 col4\" >5.8%</td>\n",
       "                        <td id=\"T_b0880_row2_col5\" class=\"data row2 col5\" >1.4%</td>\n",
       "                        <td id=\"T_b0880_row2_col6\" class=\"data row2 col6\" >77.1%</td>\n",
       "            </tr>\n",
       "            <tr>\n",
       "                        <th id=\"T_b0880_level0_row3\" class=\"row_heading level0 row3\" >Yosemite </th>\n",
       "                        <td id=\"T_b0880_row3_col0\" class=\"data row3 col0\" >1.3%</td>\n",
       "                        <td id=\"T_b0880_row3_col1\" class=\"data row3 col1\" >8.8%</td>\n",
       "                        <td id=\"T_b0880_row3_col2\" class=\"data row3 col2\" >2.2%</td>\n",
       "                        <td id=\"T_b0880_row3_col3\" class=\"data row3 col3\" >3.5%</td>\n",
       "                        <td id=\"T_b0880_row3_col4\" class=\"data row3 col4\" >5.8%</td>\n",
       "                        <td id=\"T_b0880_row3_col5\" class=\"data row3 col5\" >1.3%</td>\n",
       "                        <td id=\"T_b0880_row3_col6\" class=\"data row3 col6\" >77.1%</td>\n",
       "            </tr>\n",
       "    </tbody></table>"
      ],
      "text/plain": [
       "<pandas.io.formats.style.Styler at 0x176c61eca90>"
      ]
     },
     "metadata": {},
     "output_type": "display_data"
    },
    {
     "data": {
      "text/plain": [
       "<Figure size 432x288 with 0 Axes>"
      ]
     },
     "metadata": {},
     "output_type": "display_data"
    }
   ],
   "source": [
    "#bar plot percentages\n",
    "obs_park_df.plot(kind='bar', stacked=False, figsize=[12, 8])\n",
    "plt.xlabel('Park')\n",
    "plt.ylabel('Percentage of Observations')\n",
    "plt.grid(b=True, which='minor', linestyle='--', alpha=0.8)\n",
    "plt.gca().yaxis.set_minor_locator(MultipleLocator(5))\n",
    "plt.gca().yaxis.set_major_formatter(lambda x, pos: '{:.0f}%'.format(x))\n",
    "plt.xticks(rotation=0)\n",
    "plt.title('Observation Shares by Category')\n",
    "\n",
    "plt.show()\n",
    "plt.clf()\n",
    "\n",
    "#show table\n",
    "display(obs_park_df.style\n",
    "        .format(\"{:.1f}%\")\n",
    "        .set_caption('Observation percentages'))"
   ]
  },
  {
   "cell_type": "markdown",
   "metadata": {},
   "source": [
    "The proportion of observations is nearly identical across the National Parks in the dataset. This effect may become apparrent in the remaining analysis."
   ]
  },
  {
   "cell_type": "markdown",
   "metadata": {},
   "source": [
    "***\n",
    "##### *What are the most frequent names in the merged dataframe?*\n",
    "\n",
    "Since we're only interested in species at risk, two new dataframes must be created which exclude the `Low Risk` value from the `conservation_status` column."
   ]
  },
  {
   "cell_type": "code",
   "execution_count": 24,
   "metadata": {},
   "outputs": [
    {
     "data": {
      "text/html": [
       "<style  type=\"text/css\" >\n",
       "</style><table id=\"T_a4d7e_\" ><caption>Top 20 Frequent Words</caption><thead>    <tr>        <th class=\"blank level0\" ></th>        <th class=\"col_heading level0 col0\" >word_count</th>    </tr></thead><tbody>\n",
       "                <tr>\n",
       "                        <th id=\"T_a4d7e_level0_row0\" class=\"row_heading level0 row0\" >Myotis</th>\n",
       "                        <td id=\"T_a4d7e_row0_col0\" class=\"data row0 col0\" >96</td>\n",
       "            </tr>\n",
       "            <tr>\n",
       "                        <th id=\"T_a4d7e_level0_row1\" class=\"row_heading level0 row1\" >Bat</th>\n",
       "                        <td id=\"T_a4d7e_row1_col0\" class=\"data row1 col0\" >60</td>\n",
       "            </tr>\n",
       "            <tr>\n",
       "                        <th id=\"T_a4d7e_level0_row2\" class=\"row_heading level0 row2\" >Brown</th>\n",
       "                        <td id=\"T_a4d7e_row2_col0\" class=\"data row2 col0\" >40</td>\n",
       "            </tr>\n",
       "            <tr>\n",
       "                        <th id=\"T_a4d7e_level0_row3\" class=\"row_heading level0 row3\" >California</th>\n",
       "                        <td id=\"T_a4d7e_row3_col0\" class=\"data row3 col0\" >28</td>\n",
       "            </tr>\n",
       "            <tr>\n",
       "                        <th id=\"T_a4d7e_level0_row4\" class=\"row_heading level0 row4\" >Northern</th>\n",
       "                        <td id=\"T_a4d7e_row4_col0\" class=\"data row4 col0\" >28</td>\n",
       "            </tr>\n",
       "            <tr>\n",
       "                        <th id=\"T_a4d7e_level0_row5\" class=\"row_heading level0 row5\" >Mountain</th>\n",
       "                        <td id=\"T_a4d7e_row5_col0\" class=\"data row5 col0\" >28</td>\n",
       "            </tr>\n",
       "            <tr>\n",
       "                        <th id=\"T_a4d7e_level0_row6\" class=\"row_heading level0 row6\" >American</th>\n",
       "                        <td id=\"T_a4d7e_row6_col0\" class=\"data row6 col0\" >28</td>\n",
       "            </tr>\n",
       "            <tr>\n",
       "                        <th id=\"T_a4d7e_level0_row7\" class=\"row_heading level0 row7\" >Little</th>\n",
       "                        <td id=\"T_a4d7e_row7_col0\" class=\"data row7 col0\" >24</td>\n",
       "            </tr>\n",
       "            <tr>\n",
       "                        <th id=\"T_a4d7e_level0_row8\" class=\"row_heading level0 row8\" >Badger</th>\n",
       "                        <td id=\"T_a4d7e_row8_col0\" class=\"data row8 col0\" >16</td>\n",
       "            </tr>\n",
       "            <tr>\n",
       "                        <th id=\"T_a4d7e_level0_row9\" class=\"row_heading level0 row9\" >Warbler</th>\n",
       "                        <td id=\"T_a4d7e_row9_col0\" class=\"data row9 col0\" >16</td>\n",
       "            </tr>\n",
       "            <tr>\n",
       "                        <th id=\"T_a4d7e_level0_row10\" class=\"row_heading level0 row10\" >Gray</th>\n",
       "                        <td id=\"T_a4d7e_row10_col0\" class=\"data row10 col0\" >16</td>\n",
       "            </tr>\n",
       "            <tr>\n",
       "                        <th id=\"T_a4d7e_level0_row11\" class=\"row_heading level0 row11\" >Wolf</th>\n",
       "                        <td id=\"T_a4d7e_row11_col0\" class=\"data row11 col0\" >16</td>\n",
       "            </tr>\n",
       "            <tr>\n",
       "                        <th id=\"T_a4d7e_level0_row12\" class=\"row_heading level0 row12\" >Common</th>\n",
       "                        <td id=\"T_a4d7e_row12_col0\" class=\"data row12 col0\" >16</td>\n",
       "            </tr>\n",
       "            <tr>\n",
       "                        <th id=\"T_a4d7e_level0_row13\" class=\"row_heading level0 row13\" >Sparrow</th>\n",
       "                        <td id=\"T_a4d7e_row13_col0\" class=\"data row13 col0\" >16</td>\n",
       "            </tr>\n",
       "            <tr>\n",
       "                        <th id=\"T_a4d7e_level0_row14\" class=\"row_heading level0 row14\" >Long-Eared</th>\n",
       "                        <td id=\"T_a4d7e_row14_col0\" class=\"data row14 col0\" >16</td>\n",
       "            </tr>\n",
       "            <tr>\n",
       "                        <th id=\"T_a4d7e_level0_row15\" class=\"row_heading level0 row15\" >Nevada</th>\n",
       "                        <td id=\"T_a4d7e_row15_col0\" class=\"data row15 col0\" >16</td>\n",
       "            </tr>\n",
       "            <tr>\n",
       "                        <th id=\"T_a4d7e_level0_row16\" class=\"row_heading level0 row16\" >Sierra</th>\n",
       "                        <td id=\"T_a4d7e_row16_col0\" class=\"data row16 col0\" >16</td>\n",
       "            </tr>\n",
       "            <tr>\n",
       "                        <th id=\"T_a4d7e_level0_row17\" class=\"row_heading level0 row17\" >Snake</th>\n",
       "                        <td id=\"T_a4d7e_row17_col0\" class=\"data row17 col0\" >16</td>\n",
       "            </tr>\n",
       "            <tr>\n",
       "                        <th id=\"T_a4d7e_level0_row18\" class=\"row_heading level0 row18\" >Western</th>\n",
       "                        <td id=\"T_a4d7e_row18_col0\" class=\"data row18 col0\" >16</td>\n",
       "            </tr>\n",
       "            <tr>\n",
       "                        <th id=\"T_a4d7e_level0_row19\" class=\"row_heading level0 row19\" >Hawk</th>\n",
       "                        <td id=\"T_a4d7e_row19_col0\" class=\"data row19 col0\" >16</td>\n",
       "            </tr>\n",
       "    </tbody></table>"
      ],
      "text/plain": [
       "<pandas.io.formats.style.Styler at 0x176c60b9430>"
      ]
     },
     "metadata": {},
     "output_type": "display_data"
    }
   ],
   "source": [
    "#create endangered dataframe for merged_df\n",
    "endangered_obs = merged_df[~ merged_df.conservation_status.isin(['Low Risk'])].copy()\n",
    "\n",
    "#remove low risk from categories\n",
    "endangered_obs.conservation_status = endangered_obs.conservation_status.cat.remove_unused_categories()\n",
    "\n",
    "#create a bag of words with all words from common names in observations\n",
    "bag_words = endangered_obs.common_names.str.replace(',', '').str.split('\\s')\n",
    "# Create a list of words\n",
    "names_words = []\n",
    "for index, words in bag_words.iteritems():\n",
    "    names_words.extend(words)\n",
    "#find value counts\n",
    "names_words = pd.Series(names_words, name='word_count')\n",
    "word_count = names_words.value_counts().to_frame() \n",
    "#look at first 20\n",
    "display(word_count[:20].style.set_caption('Top 20 Frequent Words'))"
   ]
  },
  {
   "cell_type": "markdown",
   "metadata": {},
   "source": [
    "It appears the following at risk animals are most frequently observed:\n",
    "- Bats\n",
    "- Hawks\n",
    "- Warblers\n",
    "- Wolves\n",
    "- Badgers\n",
    "- Sparrows\n",
    "- Snakes"
   ]
  },
  {
   "cell_type": "markdown",
   "metadata": {},
   "source": [
    "***\n",
    "## Analysis\n",
    "\n",
    "***\n",
    "##### *Are certain categories more likely to be at risk?*"
   ]
  },
  {
   "cell_type": "code",
   "execution_count": 25,
   "metadata": {},
   "outputs": [
    {
     "data": {
      "text/html": [
       "<div>\n",
       "<style scoped>\n",
       "    .dataframe tbody tr th:only-of-type {\n",
       "        vertical-align: middle;\n",
       "    }\n",
       "\n",
       "    .dataframe tbody tr th {\n",
       "        vertical-align: top;\n",
       "    }\n",
       "\n",
       "    .dataframe thead th {\n",
       "        text-align: right;\n",
       "    }\n",
       "</style>\n",
       "<table border=\"1\" class=\"dataframe\">\n",
       "  <thead>\n",
       "    <tr style=\"text-align: right;\">\n",
       "      <th></th>\n",
       "      <th>category</th>\n",
       "      <th>scientific_name</th>\n",
       "      <th>common_names</th>\n",
       "      <th>conservation_status</th>\n",
       "      <th>park_name</th>\n",
       "      <th>observations</th>\n",
       "      <th>at_risk</th>\n",
       "    </tr>\n",
       "  </thead>\n",
       "  <tbody>\n",
       "    <tr>\n",
       "      <th>0</th>\n",
       "      <td>Mammal</td>\n",
       "      <td>Clethrionomys gapperi gapperi</td>\n",
       "      <td>Gapper's Red-Backed Vole</td>\n",
       "      <td>Low Risk</td>\n",
       "      <td>Bryce</td>\n",
       "      <td>130</td>\n",
       "      <td>False</td>\n",
       "    </tr>\n",
       "    <tr>\n",
       "      <th>1</th>\n",
       "      <td>Mammal</td>\n",
       "      <td>Clethrionomys gapperi gapperi</td>\n",
       "      <td>Gapper's Red-Backed Vole</td>\n",
       "      <td>Low Risk</td>\n",
       "      <td>Yellowstone</td>\n",
       "      <td>270</td>\n",
       "      <td>False</td>\n",
       "    </tr>\n",
       "    <tr>\n",
       "      <th>2</th>\n",
       "      <td>Mammal</td>\n",
       "      <td>Clethrionomys gapperi gapperi</td>\n",
       "      <td>Gapper's Red-Backed Vole</td>\n",
       "      <td>Low Risk</td>\n",
       "      <td>Great Smoky Mountains</td>\n",
       "      <td>98</td>\n",
       "      <td>False</td>\n",
       "    </tr>\n",
       "    <tr>\n",
       "      <th>3</th>\n",
       "      <td>Mammal</td>\n",
       "      <td>Clethrionomys gapperi gapperi</td>\n",
       "      <td>Gapper's Red-Backed Vole</td>\n",
       "      <td>Low Risk</td>\n",
       "      <td>Yosemite</td>\n",
       "      <td>117</td>\n",
       "      <td>False</td>\n",
       "    </tr>\n",
       "    <tr>\n",
       "      <th>4</th>\n",
       "      <td>Mammal</td>\n",
       "      <td>Bos bison</td>\n",
       "      <td>American Bison, Bison</td>\n",
       "      <td>Low Risk</td>\n",
       "      <td>Yosemite</td>\n",
       "      <td>128</td>\n",
       "      <td>False</td>\n",
       "    </tr>\n",
       "  </tbody>\n",
       "</table>\n",
       "</div>"
      ],
      "text/plain": [
       "  category                scientific_name              common_names  \\\n",
       "0   Mammal  Clethrionomys gapperi gapperi  Gapper's Red-Backed Vole   \n",
       "1   Mammal  Clethrionomys gapperi gapperi  Gapper's Red-Backed Vole   \n",
       "2   Mammal  Clethrionomys gapperi gapperi  Gapper's Red-Backed Vole   \n",
       "3   Mammal  Clethrionomys gapperi gapperi  Gapper's Red-Backed Vole   \n",
       "4   Mammal                      Bos bison     American Bison, Bison   \n",
       "\n",
       "  conservation_status               park_name  observations  at_risk  \n",
       "0            Low Risk                  Bryce            130    False  \n",
       "1            Low Risk            Yellowstone            270    False  \n",
       "2            Low Risk  Great Smoky Mountains             98    False  \n",
       "3            Low Risk               Yosemite            117    False  \n",
       "4            Low Risk               Yosemite            128    False  "
      ]
     },
     "execution_count": 25,
     "metadata": {},
     "output_type": "execute_result"
    }
   ],
   "source": [
    "#create at_risk column\n",
    "merged_df['at_risk'] = merged_df.conservation_status != 'Low Risk'\n",
    "merged_df.head()"
   ]
  },
  {
   "cell_type": "code",
   "execution_count": 75,
   "metadata": {
    "tags": []
   },
   "outputs": [],
   "source": [
    "#create a pivot table showing counts at risk by category\n",
    "risk_pivot = merged_df.groupby(['category', 'at_risk'])\\\n",
    "                .scientific_name.nunique().reset_index()\\\n",
    "                .pivot(index='category',\\\n",
    "                       columns='at_risk',\\\n",
    "                       values='scientific_name')\\\n",
    "                .reset_index()\n",
    "risk_pivot.columns = ['category', 'not_at_risk', 'at_risk']\n",
    "\n",
    "#risk_pivot"
   ]
  },
  {
   "cell_type": "code",
   "execution_count": 76,
   "metadata": {
    "scrolled": true
   },
   "outputs": [
    {
     "data": {
      "text/html": [
       "<div>\n",
       "<style scoped>\n",
       "    .dataframe tbody tr th:only-of-type {\n",
       "        vertical-align: middle;\n",
       "    }\n",
       "\n",
       "    .dataframe tbody tr th {\n",
       "        vertical-align: top;\n",
       "    }\n",
       "\n",
       "    .dataframe thead th {\n",
       "        text-align: right;\n",
       "    }\n",
       "</style>\n",
       "<table border=\"1\" class=\"dataframe\">\n",
       "  <thead>\n",
       "    <tr style=\"text-align: right;\">\n",
       "      <th></th>\n",
       "      <th>category</th>\n",
       "      <th>not_at_risk</th>\n",
       "      <th>at_risk</th>\n",
       "      <th>percent_at_risk</th>\n",
       "    </tr>\n",
       "  </thead>\n",
       "  <tbody>\n",
       "    <tr>\n",
       "      <th>0</th>\n",
       "      <td>Amphibian</td>\n",
       "      <td>72</td>\n",
       "      <td>7</td>\n",
       "      <td>8.860759</td>\n",
       "    </tr>\n",
       "    <tr>\n",
       "      <th>1</th>\n",
       "      <td>Bird</td>\n",
       "      <td>413</td>\n",
       "      <td>75</td>\n",
       "      <td>15.368852</td>\n",
       "    </tr>\n",
       "    <tr>\n",
       "      <th>2</th>\n",
       "      <td>Fish</td>\n",
       "      <td>114</td>\n",
       "      <td>11</td>\n",
       "      <td>8.800000</td>\n",
       "    </tr>\n",
       "    <tr>\n",
       "      <th>3</th>\n",
       "      <td>Mammal</td>\n",
       "      <td>146</td>\n",
       "      <td>30</td>\n",
       "      <td>17.045455</td>\n",
       "    </tr>\n",
       "    <tr>\n",
       "      <th>4</th>\n",
       "      <td>Nonvascular Plant</td>\n",
       "      <td>328</td>\n",
       "      <td>5</td>\n",
       "      <td>1.501502</td>\n",
       "    </tr>\n",
       "    <tr>\n",
       "      <th>5</th>\n",
       "      <td>Reptile</td>\n",
       "      <td>73</td>\n",
       "      <td>5</td>\n",
       "      <td>6.410256</td>\n",
       "    </tr>\n",
       "    <tr>\n",
       "      <th>6</th>\n",
       "      <td>Vascular Plant</td>\n",
       "      <td>4216</td>\n",
       "      <td>46</td>\n",
       "      <td>1.079305</td>\n",
       "    </tr>\n",
       "  </tbody>\n",
       "</table>\n",
       "</div>"
      ],
      "text/plain": [
       "            category  not_at_risk  at_risk  percent_at_risk\n",
       "0          Amphibian           72        7         8.860759\n",
       "1               Bird          413       75        15.368852\n",
       "2               Fish          114       11         8.800000\n",
       "3             Mammal          146       30        17.045455\n",
       "4  Nonvascular Plant          328        5         1.501502\n",
       "5            Reptile           73        5         6.410256\n",
       "6     Vascular Plant         4216       46         1.079305"
      ]
     },
     "execution_count": 76,
     "metadata": {},
     "output_type": "execute_result"
    }
   ],
   "source": [
    "#add percent_protected as a pivot table column\n",
    "risk_pivot['percent_at_risk'] = risk_pivot.at_risk / \\\n",
    "                                      (risk_pivot.at_risk + risk_pivot.not_at_risk) * 100\n",
    "\n",
    "risk_pivot"
   ]
  },
  {
   "cell_type": "code",
   "execution_count": 77,
   "metadata": {},
   "outputs": [
    {
     "data": {
      "image/png": "[encoded data removed]",
      "text/plain": [
       "<Figure size 864x288 with 1 Axes>"
      ]
     },
     "metadata": {},
     "output_type": "display_data"
    },
    {
     "data": {
      "text/plain": [
       "<Figure size 432x288 with 0 Axes>"
      ]
     },
     "metadata": {},
     "output_type": "display_data"
    }
   ],
   "source": [
    "plt.figure(figsize=(12, 4))\n",
    "ax= plt.subplot()\n",
    "plt.bar(range(len(risk_pivot)), risk_pivot.percent_at_risk.values)\n",
    "ax.set_xticks(range(len(risk_pivot)))\n",
    "ax.set_xticklabels(risk_pivot.category.values)\n",
    "plt.ylabel(\"Percent at Risk\")\n",
    "plt.title(\"Percent at Risk by Category\")\n",
    "\n",
    "plt.show()\n",
    "plt.clf()"
   ]
  },
  {
   "cell_type": "markdown",
   "metadata": {},
   "source": [
    "The categories range from 1% to 17% `percent_at_risk`. Mammals are the most (17%) at risk, and Birds are close at 15.4% at risk. The `Plant` cagetories are the least at risk at 1.1% and 1.5%."
   ]
  },
  {
   "cell_type": "markdown",
   "metadata": {},
   "source": [
    "***\n",
    "##### *Which differences between `not_at_risk` and `at_risk` are significant?*\n",
    "- *Is the difference between `Mammal` and `Bird` significant?*\n",
    "- *Is the difference between `Mammal` and `Fish` significant?*\n",
    "- *Is the difference between `Mammal` and `Reptile` significant?*"
   ]
  },
  {
   "cell_type": "code",
   "execution_count": 29,
   "metadata": {
    "scrolled": true
   },
   "outputs": [
    {
     "name": "stdout",
     "output_type": "stream",
     "text": [
      "Mammal to Bird p-value:\n",
      "0.6875948096661336\n",
      "not significant\n"
     ]
    }
   ],
   "source": [
    "#run chi-squared contingency tests \n",
    "from scipy.stats import chi2_contingency\n",
    "\n",
    "#mammal to bird contingency test\n",
    "contingency1 = [[30, 146],\n",
    "                [75, 413]]\n",
    "chi2, pval, dof, expected = chi2_contingency(contingency1)\n",
    "if pval < .05:\n",
    "    print(\"Mammal to Bird p-value:\")\n",
    "    print(pval)\n",
    "    print(\"significant\")\n",
    "else:\n",
    "    print(\"Mammal to Bird p-value:\")\n",
    "    print(pval)\n",
    "    print(\"not significant\")"
   ]
  },
  {
   "cell_type": "code",
   "execution_count": 30,
   "metadata": {},
   "outputs": [
    {
     "name": "stdout",
     "output_type": "stream",
     "text": [
      "Mammal to Fish p-value:\n",
      "0.0561483484489001\n",
      "not significant\n"
     ]
    }
   ],
   "source": [
    "#mammal to fish contingency test\n",
    "contingency2 = [[30, 146],\n",
    "                [11, 115]]\n",
    "chi2, pval, dof, expected = chi2_contingency(contingency2)\n",
    "if pval < .05:\n",
    "    print(\"Mammal to Fish p-value:\")\n",
    "    print(pval)\n",
    "    print(\"significant\")\n",
    "else:\n",
    "    print(\"Mammal to Fish p-value:\")\n",
    "    print(pval)\n",
    "    print(\"not significant\")"
   ]
  },
  {
   "cell_type": "code",
   "execution_count": 31,
   "metadata": {
    "scrolled": true
   },
   "outputs": [
    {
     "name": "stdout",
     "output_type": "stream",
     "text": [
      "Mammal to Reptile p-value:\n",
      "0.03835559022969898\n",
      "significant\n"
     ]
    }
   ],
   "source": [
    "#mammal to reptile contingency test\n",
    "contingency3 = [[30, 146],\n",
    "                [5, 73]]\n",
    "chi2, pval, dof, expected = chi2_contingency(contingency3)\n",
    "if pval < .05:\n",
    "    print(\"Mammal to Reptile p-value:\")\n",
    "    print(pval)\n",
    "    print(\"significant\")\n",
    "else:\n",
    "    print(\"Mammal to Reptile p-value:\")\n",
    "    print(pval)\n",
    "    print(\"not significant\")"
   ]
  },
  {
   "cell_type": "markdown",
   "metadata": {},
   "source": [
    "The difference between `Mammal` and `Reptile` is statistically significant as indicated by p-value 0.038. This is the smallest significant difference for `Mammal` in `conservation_status` rates."
   ]
  },
  {
   "cell_type": "markdown",
   "metadata": {},
   "source": [
    "***\n",
    "##### *How frequently were Bats observed at each National Park?*"
   ]
  },
  {
   "cell_type": "code",
   "execution_count": 32,
   "metadata": {
    "tags": []
   },
   "outputs": [],
   "source": [
    "#create column identifying bats\n",
    "merged_df['is_bat'] = merged_df.common_names.str.contains(r\"\\bBat\\b\", regex = True)"
   ]
  },
  {
   "cell_type": "code",
   "execution_count": 33,
   "metadata": {
    "tags": []
   },
   "outputs": [],
   "source": [
    "#create a dataframe containing all bat observations\n",
    "bat_observations = merged_df[merged_df.is_bat]\n",
    "#display(bat_observations.head().style.set_caption('All Bat Observations'))"
   ]
  },
  {
   "cell_type": "code",
   "execution_count": 34,
   "metadata": {
    "tags": []
   },
   "outputs": [
    {
     "data": {
      "text/html": [
       "<div>\n",
       "<style scoped>\n",
       "    .dataframe tbody tr th:only-of-type {\n",
       "        vertical-align: middle;\n",
       "    }\n",
       "\n",
       "    .dataframe tbody tr th {\n",
       "        vertical-align: top;\n",
       "    }\n",
       "\n",
       "    .dataframe thead th {\n",
       "        text-align: right;\n",
       "    }\n",
       "</style>\n",
       "<table border=\"1\" class=\"dataframe\">\n",
       "  <thead>\n",
       "    <tr style=\"text-align: right;\">\n",
       "      <th></th>\n",
       "      <th>park_name</th>\n",
       "      <th>observations</th>\n",
       "    </tr>\n",
       "  </thead>\n",
       "  <tbody>\n",
       "    <tr>\n",
       "      <th>0</th>\n",
       "      <td>Bryce</td>\n",
       "      <td>2310</td>\n",
       "    </tr>\n",
       "    <tr>\n",
       "      <th>1</th>\n",
       "      <td>Great Smoky Mountains</td>\n",
       "      <td>1687</td>\n",
       "    </tr>\n",
       "    <tr>\n",
       "      <th>2</th>\n",
       "      <td>Yellowstone</td>\n",
       "      <td>5771</td>\n",
       "    </tr>\n",
       "    <tr>\n",
       "      <th>3</th>\n",
       "      <td>Yosemite</td>\n",
       "      <td>3311</td>\n",
       "    </tr>\n",
       "  </tbody>\n",
       "</table>\n",
       "</div>"
      ],
      "text/plain": [
       "                park_name  observations\n",
       "0                  Bryce           2310\n",
       "1  Great Smoky Mountains           1687\n",
       "2            Yellowstone           5771\n",
       "3               Yosemite           3311"
      ]
     },
     "execution_count": 34,
     "metadata": {},
     "output_type": "execute_result"
    }
   ],
   "source": [
    "#aggregate the number of observations by national park\n",
    "bat_observations.groupby('park_name').observations.sum().reset_index()"
   ]
  },
  {
   "cell_type": "markdown",
   "metadata": {
    "tags": []
   },
   "source": [
    "Most bat observations (5,771) occurred at Yellowstone National Park; the least observations (1,687) occurred at Great Smoky Mountains National Park."
   ]
  },
  {
   "cell_type": "markdown",
   "metadata": {},
   "source": [
    "***\n",
    "##### *How many of the observations at each National Park were of `at_risk` Bats?*"
   ]
  },
  {
   "cell_type": "code",
   "execution_count": 35,
   "metadata": {},
   "outputs": [
    {
     "data": {
      "text/html": [
       "<div>\n",
       "<style scoped>\n",
       "    .dataframe tbody tr th:only-of-type {\n",
       "        vertical-align: middle;\n",
       "    }\n",
       "\n",
       "    .dataframe tbody tr th {\n",
       "        vertical-align: top;\n",
       "    }\n",
       "\n",
       "    .dataframe thead th {\n",
       "        text-align: right;\n",
       "    }\n",
       "</style>\n",
       "<table border=\"1\" class=\"dataframe\">\n",
       "  <thead>\n",
       "    <tr style=\"text-align: right;\">\n",
       "      <th></th>\n",
       "      <th>park_name</th>\n",
       "      <th>at_risk</th>\n",
       "      <th>observations</th>\n",
       "      <th>animal</th>\n",
       "    </tr>\n",
       "  </thead>\n",
       "  <tbody>\n",
       "    <tr>\n",
       "      <th>0</th>\n",
       "      <td>Bryce</td>\n",
       "      <td>False</td>\n",
       "      <td>1183</td>\n",
       "      <td>bat</td>\n",
       "    </tr>\n",
       "    <tr>\n",
       "      <th>1</th>\n",
       "      <td>Bryce</td>\n",
       "      <td>True</td>\n",
       "      <td>1127</td>\n",
       "      <td>bat</td>\n",
       "    </tr>\n",
       "    <tr>\n",
       "      <th>2</th>\n",
       "      <td>Great Smoky Mountains</td>\n",
       "      <td>False</td>\n",
       "      <td>970</td>\n",
       "      <td>bat</td>\n",
       "    </tr>\n",
       "    <tr>\n",
       "      <th>3</th>\n",
       "      <td>Great Smoky Mountains</td>\n",
       "      <td>True</td>\n",
       "      <td>717</td>\n",
       "      <td>bat</td>\n",
       "    </tr>\n",
       "    <tr>\n",
       "      <th>4</th>\n",
       "      <td>Yellowstone</td>\n",
       "      <td>False</td>\n",
       "      <td>3045</td>\n",
       "      <td>bat</td>\n",
       "    </tr>\n",
       "    <tr>\n",
       "      <th>5</th>\n",
       "      <td>Yellowstone</td>\n",
       "      <td>True</td>\n",
       "      <td>2726</td>\n",
       "      <td>bat</td>\n",
       "    </tr>\n",
       "    <tr>\n",
       "      <th>6</th>\n",
       "      <td>Yosemite</td>\n",
       "      <td>False</td>\n",
       "      <td>1786</td>\n",
       "      <td>bat</td>\n",
       "    </tr>\n",
       "    <tr>\n",
       "      <th>7</th>\n",
       "      <td>Yosemite</td>\n",
       "      <td>True</td>\n",
       "      <td>1525</td>\n",
       "      <td>bat</td>\n",
       "    </tr>\n",
       "  </tbody>\n",
       "</table>\n",
       "</div>"
      ],
      "text/plain": [
       "                park_name  at_risk  observations animal\n",
       "0                  Bryce     False          1183    bat\n",
       "1                  Bryce      True          1127    bat\n",
       "2  Great Smoky Mountains     False           970    bat\n",
       "3  Great Smoky Mountains      True           717    bat\n",
       "4            Yellowstone     False          3045    bat\n",
       "5            Yellowstone      True          2726    bat\n",
       "6               Yosemite     False          1786    bat\n",
       "7               Yosemite      True          1525    bat"
      ]
     },
     "execution_count": 35,
     "metadata": {},
     "output_type": "execute_result"
    }
   ],
   "source": [
    "#create a table differentiating at_risk status at each park\n",
    "bat_obs_by_park = bat_observations.groupby(['park_name', 'at_risk']).observations.sum().reset_index()\n",
    "bat_obs_by_park['animal'] = 'bat'\n",
    "bat_obs_by_park"
   ]
  },
  {
   "cell_type": "code",
   "execution_count": 36,
   "metadata": {},
   "outputs": [
    {
     "data": {
      "image/png": "[encoded data removed]",
      "text/plain": [
       "<Figure size 864x432 with 1 Axes>"
      ]
     },
     "metadata": {},
     "output_type": "display_data"
    },
    {
     "data": {
      "text/plain": [
       "<Figure size 432x288 with 0 Axes>"
      ]
     },
     "metadata": {},
     "output_type": "display_data"
    }
   ],
   "source": [
    "plt.figure(figsize=(12, 6))\n",
    "sns.barplot(x=bat_obs_by_park.park_name, y= bat_obs_by_park.observations, hue=bat_obs_by_park.at_risk)\n",
    "plt.xlabel('National Parks')\n",
    "plt.ylabel('Number of Observations')\n",
    "plt.title('Observations of Bats per Week')\n",
    "\n",
    "plt.show()\n",
    "plt.clf()"
   ]
  },
  {
   "cell_type": "markdown",
   "metadata": {},
   "source": [
    "At all National Parks in the dataframe, the number of `at_risk` bats is lower than those not at risk. This difference is smallest at Bryce National Park (56) and largest at Yellowstone (253)."
   ]
  },
  {
   "cell_type": "markdown",
   "metadata": {},
   "source": [
    "***\n",
    "##### *How frequently were Hawks observed at each National Park?*"
   ]
  },
  {
   "cell_type": "code",
   "execution_count": 37,
   "metadata": {
    "tags": []
   },
   "outputs": [],
   "source": [
    "#create column identifying hawks\n",
    "merged_df['is_hawk'] = merged_df.common_names.str.contains(r\"\\bHawk\\b\", regex = True)\n",
    "#merged_df.head(10)"
   ]
  },
  {
   "cell_type": "code",
   "execution_count": 38,
   "metadata": {
    "tags": []
   },
   "outputs": [],
   "source": [
    "#create a dataframe containing all hawk observations\n",
    "hawk_observations = merged_df[merged_df.is_hawk]\n",
    "#display(hawk_observations.head().style.set_caption('All Hawk Observations'))"
   ]
  },
  {
   "cell_type": "code",
   "execution_count": 39,
   "metadata": {
    "tags": []
   },
   "outputs": [
    {
     "data": {
      "text/html": [
       "<div>\n",
       "<style scoped>\n",
       "    .dataframe tbody tr th:only-of-type {\n",
       "        vertical-align: middle;\n",
       "    }\n",
       "\n",
       "    .dataframe tbody tr th {\n",
       "        vertical-align: top;\n",
       "    }\n",
       "\n",
       "    .dataframe thead th {\n",
       "        text-align: right;\n",
       "    }\n",
       "</style>\n",
       "<table border=\"1\" class=\"dataframe\">\n",
       "  <thead>\n",
       "    <tr style=\"text-align: right;\">\n",
       "      <th></th>\n",
       "      <th>park_name</th>\n",
       "      <th>observations</th>\n",
       "    </tr>\n",
       "  </thead>\n",
       "  <tbody>\n",
       "    <tr>\n",
       "      <th>0</th>\n",
       "      <td>Bryce</td>\n",
       "      <td>1253</td>\n",
       "    </tr>\n",
       "    <tr>\n",
       "      <th>1</th>\n",
       "      <td>Great Smoky Mountains</td>\n",
       "      <td>950</td>\n",
       "    </tr>\n",
       "    <tr>\n",
       "      <th>2</th>\n",
       "      <td>Yellowstone</td>\n",
       "      <td>3211</td>\n",
       "    </tr>\n",
       "    <tr>\n",
       "      <th>3</th>\n",
       "      <td>Yosemite</td>\n",
       "      <td>1842</td>\n",
       "    </tr>\n",
       "  </tbody>\n",
       "</table>\n",
       "</div>"
      ],
      "text/plain": [
       "                park_name  observations\n",
       "0                  Bryce           1253\n",
       "1  Great Smoky Mountains            950\n",
       "2            Yellowstone           3211\n",
       "3               Yosemite           1842"
      ]
     },
     "execution_count": 39,
     "metadata": {},
     "output_type": "execute_result"
    }
   ],
   "source": [
    "#aggregate the number of observations by national park\n",
    "hawk_observations.groupby('park_name').observations.sum().reset_index()"
   ]
  },
  {
   "cell_type": "markdown",
   "metadata": {
    "tags": []
   },
   "source": [
    "Most hawk observations (3,211) occurred at Yellowstone National Park; the least observations (950) occurred at Great Smoky Mountains National Park."
   ]
  },
  {
   "cell_type": "markdown",
   "metadata": {},
   "source": [
    "***\n",
    "##### *How many of the observations at each National Park were of `at_risk` Hawks?*"
   ]
  },
  {
   "cell_type": "code",
   "execution_count": 40,
   "metadata": {},
   "outputs": [],
   "source": [
    "#create a table differentiating at_risk status at each park\n",
    "hawk_obs_by_park = hawk_observations.groupby(['park_name', 'at_risk']).observations.sum().reset_index()\n",
    "hawk_obs_by_park['animal'] = 'hawk'\n",
    "#hawk_obs_by_park"
   ]
  },
  {
   "cell_type": "code",
   "execution_count": 41,
   "metadata": {},
   "outputs": [
    {
     "data": {
      "image/png": "[encoded data removed]",
      "text/plain": [
       "<Figure size 864x432 with 1 Axes>"
      ]
     },
     "metadata": {},
     "output_type": "display_data"
    },
    {
     "data": {
      "text/plain": [
       "<Figure size 432x288 with 0 Axes>"
      ]
     },
     "metadata": {},
     "output_type": "display_data"
    }
   ],
   "source": [
    "plt.figure(figsize=(12, 6))\n",
    "sns.barplot(x=hawk_obs_by_park.park_name, y= hawk_obs_by_park.observations, hue=hawk_obs_by_park.at_risk)\n",
    "plt.xlabel('National Parks')\n",
    "plt.ylabel('Number of Observations')\n",
    "plt.title('Observations of Hawks per Week')\n",
    "\n",
    "plt.show()\n",
    "plt.clf()"
   ]
  },
  {
   "cell_type": "markdown",
   "metadata": {},
   "source": [
    "At all National Parks in the dataframe, the number of `at_risk` hawks is lower than those not at risk. This difference is smallest at Great Smoky Mountains National Park (482) and largest at Yellowstone (1,389)."
   ]
  },
  {
   "cell_type": "markdown",
   "metadata": {
    "tags": []
   },
   "source": [
    "***\n",
    "##### *How frequently were Warblers observed at each National Park?*"
   ]
  },
  {
   "cell_type": "code",
   "execution_count": 42,
   "metadata": {
    "tags": []
   },
   "outputs": [],
   "source": [
    "#create column identifying warblers\n",
    "merged_df['is_warb'] = merged_df.common_names.str.contains(r\"\\bWarbler\\b\", regex = True)\n",
    "#merged_df.head(10)"
   ]
  },
  {
   "cell_type": "code",
   "execution_count": 43,
   "metadata": {
    "tags": []
   },
   "outputs": [],
   "source": [
    "#create a dataframe containing all warbler observations\n",
    "warb_observations = merged_df[merged_df.is_warb]\n",
    "#display(warb_observations.head().style.set_caption('All Warbler Observations'))"
   ]
  },
  {
   "cell_type": "code",
   "execution_count": 44,
   "metadata": {
    "tags": []
   },
   "outputs": [
    {
     "data": {
      "text/html": [
       "<div>\n",
       "<style scoped>\n",
       "    .dataframe tbody tr th:only-of-type {\n",
       "        vertical-align: middle;\n",
       "    }\n",
       "\n",
       "    .dataframe tbody tr th {\n",
       "        vertical-align: top;\n",
       "    }\n",
       "\n",
       "    .dataframe thead th {\n",
       "        text-align: right;\n",
       "    }\n",
       "</style>\n",
       "<table border=\"1\" class=\"dataframe\">\n",
       "  <thead>\n",
       "    <tr style=\"text-align: right;\">\n",
       "      <th></th>\n",
       "      <th>park_name</th>\n",
       "      <th>observations</th>\n",
       "    </tr>\n",
       "  </thead>\n",
       "  <tbody>\n",
       "    <tr>\n",
       "      <th>0</th>\n",
       "      <td>Bryce</td>\n",
       "      <td>5760</td>\n",
       "    </tr>\n",
       "    <tr>\n",
       "      <th>1</th>\n",
       "      <td>Great Smoky Mountains</td>\n",
       "      <td>4435</td>\n",
       "    </tr>\n",
       "    <tr>\n",
       "      <th>2</th>\n",
       "      <td>Yellowstone</td>\n",
       "      <td>14487</td>\n",
       "    </tr>\n",
       "    <tr>\n",
       "      <th>3</th>\n",
       "      <td>Yosemite</td>\n",
       "      <td>8712</td>\n",
       "    </tr>\n",
       "  </tbody>\n",
       "</table>\n",
       "</div>"
      ],
      "text/plain": [
       "                park_name  observations\n",
       "0                  Bryce           5760\n",
       "1  Great Smoky Mountains           4435\n",
       "2            Yellowstone          14487\n",
       "3               Yosemite           8712"
      ]
     },
     "execution_count": 44,
     "metadata": {},
     "output_type": "execute_result"
    }
   ],
   "source": [
    "#aggregate the number of observations by national park\n",
    "warb_observations.groupby('park_name').observations.sum().reset_index()"
   ]
  },
  {
   "cell_type": "markdown",
   "metadata": {
    "tags": []
   },
   "source": [
    "Most warbler observations (14,487) occurred at Yellowstone National Park; the least observations (4,435) occurred at Great Smoky Mountains National Park."
   ]
  },
  {
   "cell_type": "markdown",
   "metadata": {},
   "source": [
    "***\n",
    "##### *How many of the observations at each National Park were of `at_risk` Warblers?*"
   ]
  },
  {
   "cell_type": "code",
   "execution_count": 45,
   "metadata": {},
   "outputs": [],
   "source": [
    "#create a table differentiating at_risk status at each park\n",
    "warb_obs_by_park = warb_observations.groupby(['park_name', 'at_risk']).observations.sum().reset_index()\n",
    "warb_obs_by_park['animal'] = 'warbler'\n",
    "#warb_obs_by_park"
   ]
  },
  {
   "cell_type": "code",
   "execution_count": 46,
   "metadata": {},
   "outputs": [
    {
     "data": {
      "image/png": "[encoded data removed]",
      "text/plain": [
       "<Figure size 864x432 with 1 Axes>"
      ]
     },
     "metadata": {},
     "output_type": "display_data"
    },
    {
     "data": {
      "text/plain": [
       "<Figure size 432x288 with 0 Axes>"
      ]
     },
     "metadata": {},
     "output_type": "display_data"
    }
   ],
   "source": [
    "plt.figure(figsize=(12, 6))\n",
    "sns.barplot(x=warb_obs_by_park.park_name, y= warb_obs_by_park.observations, hue=warb_obs_by_park.at_risk)\n",
    "plt.xlabel('National Parks')\n",
    "plt.ylabel('Number of Observations')\n",
    "plt.title('Observations of Warblers per Week')\n",
    "\n",
    "plt.show()\n",
    "plt.clf()"
   ]
  },
  {
   "cell_type": "markdown",
   "metadata": {},
   "source": [
    "At all National Parks in the dataframe, the number of `at_risk` warblers is lower than those not at risk. This difference is smallest at Great Smoky Mountains National Park (4,145) and largest at Yellowstone (13,503)."
   ]
  },
  {
   "cell_type": "markdown",
   "metadata": {},
   "source": [
    "***\n",
    "##### *How frequently were Wolves observed at each National Park?*"
   ]
  },
  {
   "cell_type": "code",
   "execution_count": 47,
   "metadata": {
    "tags": []
   },
   "outputs": [],
   "source": [
    "#create column identifying wolves\n",
    "merged_df['is_wolf'] = merged_df.common_names.str.contains(r\"\\bWolf\\b\", regex = True)\n",
    "#merged_df.head(10)"
   ]
  },
  {
   "cell_type": "code",
   "execution_count": 48,
   "metadata": {
    "tags": []
   },
   "outputs": [],
   "source": [
    "#create a dataframe containing all wolf observations\n",
    "wolf_observations = merged_df[merged_df.is_wolf]\n",
    "#display(wolf_observations.head().style.set_caption('All Wolf Observations'))"
   ]
  },
  {
   "cell_type": "code",
   "execution_count": 49,
   "metadata": {
    "tags": []
   },
   "outputs": [
    {
     "data": {
      "text/html": [
       "<div>\n",
       "<style scoped>\n",
       "    .dataframe tbody tr th:only-of-type {\n",
       "        vertical-align: middle;\n",
       "    }\n",
       "\n",
       "    .dataframe tbody tr th {\n",
       "        vertical-align: top;\n",
       "    }\n",
       "\n",
       "    .dataframe thead th {\n",
       "        text-align: right;\n",
       "    }\n",
       "</style>\n",
       "<table border=\"1\" class=\"dataframe\">\n",
       "  <thead>\n",
       "    <tr style=\"text-align: right;\">\n",
       "      <th></th>\n",
       "      <th>park_name</th>\n",
       "      <th>observations</th>\n",
       "    </tr>\n",
       "  </thead>\n",
       "  <tbody>\n",
       "    <tr>\n",
       "      <th>0</th>\n",
       "      <td>Bryce</td>\n",
       "      <td>540</td>\n",
       "    </tr>\n",
       "    <tr>\n",
       "      <th>1</th>\n",
       "      <td>Great Smoky Mountains</td>\n",
       "      <td>264</td>\n",
       "    </tr>\n",
       "    <tr>\n",
       "      <th>2</th>\n",
       "      <td>Yellowstone</td>\n",
       "      <td>1122</td>\n",
       "    </tr>\n",
       "    <tr>\n",
       "      <th>3</th>\n",
       "      <td>Yosemite</td>\n",
       "      <td>658</td>\n",
       "    </tr>\n",
       "  </tbody>\n",
       "</table>\n",
       "</div>"
      ],
      "text/plain": [
       "                park_name  observations\n",
       "0                  Bryce            540\n",
       "1  Great Smoky Mountains            264\n",
       "2            Yellowstone           1122\n",
       "3               Yosemite            658"
      ]
     },
     "execution_count": 49,
     "metadata": {},
     "output_type": "execute_result"
    }
   ],
   "source": [
    "#aggregate the number of observations by national park\n",
    "wolf_observations.groupby('park_name').observations.sum().reset_index()"
   ]
  },
  {
   "cell_type": "markdown",
   "metadata": {
    "tags": []
   },
   "source": [
    "Most wolf observations (1122) occurred at Yellowstone National Park; the least observations (264) occurred at Great Smoky Mountains National Park."
   ]
  },
  {
   "cell_type": "markdown",
   "metadata": {},
   "source": [
    "***\n",
    "##### *How many of the observations at each National Park were of `at_risk` Wolves?*"
   ]
  },
  {
   "cell_type": "code",
   "execution_count": 50,
   "metadata": {},
   "outputs": [],
   "source": [
    "#create a table differentiating at_risk status at each park\n",
    "wolf_obs_by_park = wolf_observations.groupby(['park_name', 'at_risk']).observations.sum().reset_index()\n",
    "wolf_obs_by_park['animal'] = 'wolf'\n",
    "#wolf_obs_by_park"
   ]
  },
  {
   "cell_type": "code",
   "execution_count": 51,
   "metadata": {},
   "outputs": [
    {
     "data": {
      "image/png": "[encoded data removed]",
      "text/plain": [
       "<Figure size 864x432 with 1 Axes>"
      ]
     },
     "metadata": {},
     "output_type": "display_data"
    },
    {
     "data": {
      "text/plain": [
       "<Figure size 432x288 with 0 Axes>"
      ]
     },
     "metadata": {},
     "output_type": "display_data"
    }
   ],
   "source": [
    "plt.figure(figsize=(12, 6))\n",
    "sns.barplot(x=wolf_obs_by_park.park_name, y= wolf_obs_by_park.observations, hue=wolf_obs_by_park.at_risk)\n",
    "plt.xlabel('National Parks')\n",
    "plt.ylabel('Number of Observations')\n",
    "plt.title('Observations of Wolves per Week')\n",
    "\n",
    "plt.show()\n",
    "plt.clf()"
   ]
  },
  {
   "cell_type": "markdown",
   "metadata": {},
   "source": [
    "At all National Parks in the dataframe, the number of `at_risk` wolves is lower than those not at risk. This difference is smallest at Great Smoky Mountains National Park (120) and largest at Yellowstone (342)."
   ]
  },
  {
   "cell_type": "markdown",
   "metadata": {},
   "source": [
    "***\n",
    "##### *How frequently were Badgers observed at each National Park?*"
   ]
  },
  {
   "cell_type": "code",
   "execution_count": 52,
   "metadata": {
    "tags": []
   },
   "outputs": [],
   "source": [
    "#create column identifying badgers\n",
    "merged_df['is_badg'] = merged_df.common_names.str.contains(r\"\\bBadger\\b\", regex = True)\n",
    "#merged_df.head(10)"
   ]
  },
  {
   "cell_type": "code",
   "execution_count": 53,
   "metadata": {
    "tags": []
   },
   "outputs": [],
   "source": [
    "#create a dataframe containing all badger observations\n",
    "badg_observations = merged_df[merged_df.is_badg]\n",
    "#display(badg_observations.head().style.set_caption('All Badger Observations'))"
   ]
  },
  {
   "cell_type": "code",
   "execution_count": 54,
   "metadata": {
    "tags": []
   },
   "outputs": [
    {
     "data": {
      "text/html": [
       "<div>\n",
       "<style scoped>\n",
       "    .dataframe tbody tr th:only-of-type {\n",
       "        vertical-align: middle;\n",
       "    }\n",
       "\n",
       "    .dataframe tbody tr th {\n",
       "        vertical-align: top;\n",
       "    }\n",
       "\n",
       "    .dataframe thead th {\n",
       "        text-align: right;\n",
       "    }\n",
       "</style>\n",
       "<table border=\"1\" class=\"dataframe\">\n",
       "  <thead>\n",
       "    <tr style=\"text-align: right;\">\n",
       "      <th></th>\n",
       "      <th>park_name</th>\n",
       "      <th>observations</th>\n",
       "    </tr>\n",
       "  </thead>\n",
       "  <tbody>\n",
       "    <tr>\n",
       "      <th>0</th>\n",
       "      <td>Bryce</td>\n",
       "      <td>159</td>\n",
       "    </tr>\n",
       "    <tr>\n",
       "      <th>1</th>\n",
       "      <td>Great Smoky Mountains</td>\n",
       "      <td>137</td>\n",
       "    </tr>\n",
       "    <tr>\n",
       "      <th>2</th>\n",
       "      <td>Yellowstone</td>\n",
       "      <td>449</td>\n",
       "    </tr>\n",
       "    <tr>\n",
       "      <th>3</th>\n",
       "      <td>Yosemite</td>\n",
       "      <td>255</td>\n",
       "    </tr>\n",
       "  </tbody>\n",
       "</table>\n",
       "</div>"
      ],
      "text/plain": [
       "                park_name  observations\n",
       "0                  Bryce            159\n",
       "1  Great Smoky Mountains            137\n",
       "2            Yellowstone            449\n",
       "3               Yosemite            255"
      ]
     },
     "execution_count": 54,
     "metadata": {},
     "output_type": "execute_result"
    }
   ],
   "source": [
    "#aggregate the number of observations by national park\n",
    "badg_observations.groupby('park_name').observations.sum().reset_index()"
   ]
  },
  {
   "cell_type": "markdown",
   "metadata": {
    "tags": []
   },
   "source": [
    "Most badger observations (449) occurred at Yellowstone National Park; the least observations (137) occurred at Great Smoky Mountains National Park."
   ]
  },
  {
   "cell_type": "markdown",
   "metadata": {},
   "source": [
    "***\n",
    "##### *How many of the observations at each National Park were of `at_risk` Badgers?*"
   ]
  },
  {
   "cell_type": "code",
   "execution_count": 55,
   "metadata": {},
   "outputs": [],
   "source": [
    "#create a table differentiating at_risk status at each park\n",
    "badg_obs_by_park = badg_observations.groupby(['park_name', 'at_risk']).observations.sum().reset_index()\n",
    "badg_obs_by_park['animal'] = 'badger'\n",
    "#badg_obs_by_park"
   ]
  },
  {
   "cell_type": "code",
   "execution_count": 56,
   "metadata": {},
   "outputs": [
    {
     "data": {
      "image/png": "[encoded data removed]",
      "text/plain": [
       "<Figure size 864x432 with 1 Axes>"
      ]
     },
     "metadata": {},
     "output_type": "display_data"
    },
    {
     "data": {
      "text/plain": [
       "<Figure size 432x288 with 0 Axes>"
      ]
     },
     "metadata": {},
     "output_type": "display_data"
    }
   ],
   "source": [
    "plt.figure(figsize=(12, 6))\n",
    "sns.barplot(x=badg_obs_by_park.park_name, y= badg_obs_by_park.observations, hue=badg_obs_by_park.at_risk)\n",
    "plt.xlabel('National Parks')\n",
    "plt.ylabel('Number of Observations')\n",
    "plt.title('Observations of Badgers per Week')\n",
    "\n",
    "plt.show()\n",
    "plt.clf()"
   ]
  },
  {
   "cell_type": "markdown",
   "metadata": {},
   "source": [
    "All badgers observed are `at_risk`. This may be useful information for conservationists."
   ]
  },
  {
   "cell_type": "markdown",
   "metadata": {},
   "source": [
    "***\n",
    "##### *How frequently were Sparrows observed at each National Park?*"
   ]
  },
  {
   "cell_type": "code",
   "execution_count": 57,
   "metadata": {
    "tags": []
   },
   "outputs": [],
   "source": [
    "#create column identifying sparrows\n",
    "merged_df['is_spar'] = merged_df.common_names.str.contains(r\"\\bSparrow\\b\", regex = True)\n",
    "#merged_df.head(10)"
   ]
  },
  {
   "cell_type": "code",
   "execution_count": 58,
   "metadata": {
    "tags": []
   },
   "outputs": [],
   "source": [
    "#create a dataframe containing all sparrow observations\n",
    "spar_observations = merged_df[merged_df.is_spar]\n",
    "#display(spar_observations.head().style.set_caption('All Sparrow Observations'))"
   ]
  },
  {
   "cell_type": "code",
   "execution_count": 59,
   "metadata": {
    "tags": []
   },
   "outputs": [
    {
     "data": {
      "text/html": [
       "<div>\n",
       "<style scoped>\n",
       "    .dataframe tbody tr th:only-of-type {\n",
       "        vertical-align: middle;\n",
       "    }\n",
       "\n",
       "    .dataframe tbody tr th {\n",
       "        vertical-align: top;\n",
       "    }\n",
       "\n",
       "    .dataframe thead th {\n",
       "        text-align: right;\n",
       "    }\n",
       "</style>\n",
       "<table border=\"1\" class=\"dataframe\">\n",
       "  <thead>\n",
       "    <tr style=\"text-align: right;\">\n",
       "      <th></th>\n",
       "      <th>park_name</th>\n",
       "      <th>observations</th>\n",
       "    </tr>\n",
       "  </thead>\n",
       "  <tbody>\n",
       "    <tr>\n",
       "      <th>0</th>\n",
       "      <td>Bryce</td>\n",
       "      <td>2777</td>\n",
       "    </tr>\n",
       "    <tr>\n",
       "      <th>1</th>\n",
       "      <td>Great Smoky Mountains</td>\n",
       "      <td>2134</td>\n",
       "    </tr>\n",
       "    <tr>\n",
       "      <th>2</th>\n",
       "      <td>Yellowstone</td>\n",
       "      <td>7027</td>\n",
       "    </tr>\n",
       "    <tr>\n",
       "      <th>3</th>\n",
       "      <td>Yosemite</td>\n",
       "      <td>4340</td>\n",
       "    </tr>\n",
       "  </tbody>\n",
       "</table>\n",
       "</div>"
      ],
      "text/plain": [
       "                park_name  observations\n",
       "0                  Bryce           2777\n",
       "1  Great Smoky Mountains           2134\n",
       "2            Yellowstone           7027\n",
       "3               Yosemite           4340"
      ]
     },
     "execution_count": 59,
     "metadata": {},
     "output_type": "execute_result"
    }
   ],
   "source": [
    "#aggregate the number of observations by national park\n",
    "spar_observations.groupby('park_name').observations.sum().reset_index()"
   ]
  },
  {
   "cell_type": "markdown",
   "metadata": {
    "tags": []
   },
   "source": [
    "Most sparrow observations (7,027) occurred at Yellowstone National Park; the least observations (2,134) occurred at Great Smoky Mountains National Park."
   ]
  },
  {
   "cell_type": "markdown",
   "metadata": {},
   "source": [
    "***\n",
    "##### *How many of the observations at each National Park were of `at_risk` Sparrows?*"
   ]
  },
  {
   "cell_type": "code",
   "execution_count": 60,
   "metadata": {},
   "outputs": [],
   "source": [
    "#create a table differentiating at_risk status at each park\n",
    "spar_obs_by_park = spar_observations.groupby(['park_name', 'at_risk']).observations.sum().reset_index()\n",
    "spar_obs_by_park['animal'] = 'sparrow'\n",
    "#spar_obs_by_park"
   ]
  },
  {
   "cell_type": "code",
   "execution_count": 61,
   "metadata": {},
   "outputs": [
    {
     "data": {
      "image/png": "[encoded data removed]",
      "text/plain": [
       "<Figure size 864x432 with 1 Axes>"
      ]
     },
     "metadata": {},
     "output_type": "display_data"
    },
    {
     "data": {
      "text/plain": [
       "<Figure size 432x288 with 0 Axes>"
      ]
     },
     "metadata": {},
     "output_type": "display_data"
    }
   ],
   "source": [
    "plt.figure(figsize=(12, 6))\n",
    "sns.barplot(x=spar_obs_by_park.park_name, y= spar_obs_by_park.observations, hue=spar_obs_by_park.at_risk)\n",
    "plt.xlabel('National Parks')\n",
    "plt.ylabel('Number of Observations')\n",
    "plt.title('Observations of Sparrows per Week')\n",
    "\n",
    "plt.show()\n",
    "plt.clf()"
   ]
  },
  {
   "cell_type": "markdown",
   "metadata": {},
   "source": [
    "At all National Parks in the dataframe, the number of `at_risk` sparrows is lower than those not at risk. This difference is smallest at Great Smoky Mountains National Park (1,650) and largest at Yellowstone (5,233)."
   ]
  },
  {
   "cell_type": "markdown",
   "metadata": {},
   "source": [
    "***\n",
    "##### *How frequently were Snakes observed at each National Park?*"
   ]
  },
  {
   "cell_type": "code",
   "execution_count": 62,
   "metadata": {
    "tags": []
   },
   "outputs": [],
   "source": [
    "#create column identifying snakes\n",
    "merged_df['is_snek'] = merged_df.common_names.str.contains(r\"\\bSnake\\b\", regex = True)"
   ]
  },
  {
   "cell_type": "code",
   "execution_count": 63,
   "metadata": {
    "tags": []
   },
   "outputs": [],
   "source": [
    "#create a dataframe containing all hawk observations\n",
    "snek_observations = merged_df[merged_df.is_snek]\n",
    "#display(snek_observations.head().style.set_caption('All Snake Observations'))"
   ]
  },
  {
   "cell_type": "code",
   "execution_count": 64,
   "metadata": {
    "tags": []
   },
   "outputs": [
    {
     "data": {
      "text/html": [
       "<div>\n",
       "<style scoped>\n",
       "    .dataframe tbody tr th:only-of-type {\n",
       "        vertical-align: middle;\n",
       "    }\n",
       "\n",
       "    .dataframe tbody tr th {\n",
       "        vertical-align: top;\n",
       "    }\n",
       "\n",
       "    .dataframe thead th {\n",
       "        text-align: right;\n",
       "    }\n",
       "</style>\n",
       "<table border=\"1\" class=\"dataframe\">\n",
       "  <thead>\n",
       "    <tr style=\"text-align: right;\">\n",
       "      <th></th>\n",
       "      <th>park_name</th>\n",
       "      <th>observations</th>\n",
       "    </tr>\n",
       "  </thead>\n",
       "  <tbody>\n",
       "    <tr>\n",
       "      <th>0</th>\n",
       "      <td>Bryce</td>\n",
       "      <td>3344</td>\n",
       "    </tr>\n",
       "    <tr>\n",
       "      <th>1</th>\n",
       "      <td>Great Smoky Mountains</td>\n",
       "      <td>2374</td>\n",
       "    </tr>\n",
       "    <tr>\n",
       "      <th>2</th>\n",
       "      <td>Yellowstone</td>\n",
       "      <td>8149</td>\n",
       "    </tr>\n",
       "    <tr>\n",
       "      <th>3</th>\n",
       "      <td>Yosemite</td>\n",
       "      <td>4823</td>\n",
       "    </tr>\n",
       "  </tbody>\n",
       "</table>\n",
       "</div>"
      ],
      "text/plain": [
       "                park_name  observations\n",
       "0                  Bryce           3344\n",
       "1  Great Smoky Mountains           2374\n",
       "2            Yellowstone           8149\n",
       "3               Yosemite           4823"
      ]
     },
     "execution_count": 64,
     "metadata": {},
     "output_type": "execute_result"
    }
   ],
   "source": [
    "#aggregate the number of observations by national park\n",
    "snek_observations.groupby('park_name').observations.sum().reset_index()"
   ]
  },
  {
   "cell_type": "markdown",
   "metadata": {
    "tags": []
   },
   "source": [
    "Most snake observations (8,149) occurred at Yellowstone National Park; the least observations (2,374) occurred at Great Smoky Mountains National Park."
   ]
  },
  {
   "cell_type": "markdown",
   "metadata": {},
   "source": [
    "***\n",
    "##### *How many of the observations at each National Park were of `at_risk` Snakes?*"
   ]
  },
  {
   "cell_type": "code",
   "execution_count": 65,
   "metadata": {},
   "outputs": [
    {
     "data": {
      "text/html": [
       "<div>\n",
       "<style scoped>\n",
       "    .dataframe tbody tr th:only-of-type {\n",
       "        vertical-align: middle;\n",
       "    }\n",
       "\n",
       "    .dataframe tbody tr th {\n",
       "        vertical-align: top;\n",
       "    }\n",
       "\n",
       "    .dataframe thead th {\n",
       "        text-align: right;\n",
       "    }\n",
       "</style>\n",
       "<table border=\"1\" class=\"dataframe\">\n",
       "  <thead>\n",
       "    <tr style=\"text-align: right;\">\n",
       "      <th></th>\n",
       "      <th>park_name</th>\n",
       "      <th>at_risk</th>\n",
       "      <th>observations</th>\n",
       "      <th>animal</th>\n",
       "    </tr>\n",
       "  </thead>\n",
       "  <tbody>\n",
       "    <tr>\n",
       "      <th>0</th>\n",
       "      <td>Bryce</td>\n",
       "      <td>False</td>\n",
       "      <td>3115</td>\n",
       "      <td>snake</td>\n",
       "    </tr>\n",
       "    <tr>\n",
       "      <th>1</th>\n",
       "      <td>Bryce</td>\n",
       "      <td>True</td>\n",
       "      <td>229</td>\n",
       "      <td>snake</td>\n",
       "    </tr>\n",
       "    <tr>\n",
       "      <th>2</th>\n",
       "      <td>Great Smoky Mountains</td>\n",
       "      <td>False</td>\n",
       "      <td>2199</td>\n",
       "      <td>snake</td>\n",
       "    </tr>\n",
       "    <tr>\n",
       "      <th>3</th>\n",
       "      <td>Great Smoky Mountains</td>\n",
       "      <td>True</td>\n",
       "      <td>175</td>\n",
       "      <td>snake</td>\n",
       "    </tr>\n",
       "    <tr>\n",
       "      <th>4</th>\n",
       "      <td>Yellowstone</td>\n",
       "      <td>False</td>\n",
       "      <td>7503</td>\n",
       "      <td>snake</td>\n",
       "    </tr>\n",
       "    <tr>\n",
       "      <th>5</th>\n",
       "      <td>Yellowstone</td>\n",
       "      <td>True</td>\n",
       "      <td>646</td>\n",
       "      <td>snake</td>\n",
       "    </tr>\n",
       "    <tr>\n",
       "      <th>6</th>\n",
       "      <td>Yosemite</td>\n",
       "      <td>False</td>\n",
       "      <td>4396</td>\n",
       "      <td>snake</td>\n",
       "    </tr>\n",
       "    <tr>\n",
       "      <th>7</th>\n",
       "      <td>Yosemite</td>\n",
       "      <td>True</td>\n",
       "      <td>427</td>\n",
       "      <td>snake</td>\n",
       "    </tr>\n",
       "  </tbody>\n",
       "</table>\n",
       "</div>"
      ],
      "text/plain": [
       "                park_name  at_risk  observations animal\n",
       "0                  Bryce     False          3115  snake\n",
       "1                  Bryce      True           229  snake\n",
       "2  Great Smoky Mountains     False          2199  snake\n",
       "3  Great Smoky Mountains      True           175  snake\n",
       "4            Yellowstone     False          7503  snake\n",
       "5            Yellowstone      True           646  snake\n",
       "6               Yosemite     False          4396  snake\n",
       "7               Yosemite      True           427  snake"
      ]
     },
     "execution_count": 65,
     "metadata": {},
     "output_type": "execute_result"
    }
   ],
   "source": [
    "#create a table differentiating at_risk status at each park\n",
    "snek_obs_by_park = snek_observations.groupby(['park_name', 'at_risk']).observations.sum().reset_index()\n",
    "snek_obs_by_park['animal'] = 'snake'\n",
    "snek_obs_by_park"
   ]
  },
  {
   "cell_type": "code",
   "execution_count": 66,
   "metadata": {},
   "outputs": [
    {
     "data": {
      "image/png": "[encoded data removed]",
      "text/plain": [
       "<Figure size 864x432 with 1 Axes>"
      ]
     },
     "metadata": {},
     "output_type": "display_data"
    },
    {
     "data": {
      "text/plain": [
       "<Figure size 432x288 with 0 Axes>"
      ]
     },
     "metadata": {},
     "output_type": "display_data"
    }
   ],
   "source": [
    "plt.figure(figsize=(12, 6))\n",
    "sns.barplot(x=snek_obs_by_park.park_name, y= snek_obs_by_park.observations, hue=snek_obs_by_park.at_risk)\n",
    "plt.xlabel('National Parks')\n",
    "plt.ylabel('Number of Observations')\n",
    "plt.title('Observations of Snakes per Week')\n",
    "\n",
    "plt.show()\n",
    "plt.clf()"
   ]
  },
  {
   "cell_type": "markdown",
   "metadata": {},
   "source": [
    "At all National Parks in the dataframe, the number of `at_risk` snakes is lower than those not at risk. This difference is smallest at Great Smoky Mountains National Park (2,024) and largest at Yellowstone (6,857)."
   ]
  },
  {
   "cell_type": "markdown",
   "metadata": {},
   "source": [
    "***\n",
    "##### *How often were the most frequently observed animals (Bats, Hawks, Warblers, Wolves, Sparrows, and Snakes) seen at each National Park, and how many observations were of `at_risk` animals?*"
   ]
  },
  {
   "cell_type": "code",
   "execution_count": 67,
   "metadata": {},
   "outputs": [],
   "source": [
    "all_obs_by_park_stacked = pd.concat([bat_obs_by_park, hawk_obs_by_park, warb_obs_by_park,\\\n",
    "                                     wolf_obs_by_park, spar_obs_by_park, snek_obs_by_park],\\\n",
    "                                    ignore_index=True)\n",
    "\n",
    "#all_obs_by_park_stacked.head(10)"
   ]
  },
  {
   "cell_type": "code",
   "execution_count": 78,
   "metadata": {},
   "outputs": [
    {
     "data": {
      "text/plain": [
       "<seaborn.axisgrid.FacetGrid at 0x176c88b94f0>"
      ]
     },
     "execution_count": 78,
     "metadata": {},
     "output_type": "execute_result"
    },
    {
     "data": {
      "image/png": "[encoded data removed]",
      "text/plain": [
       "<Figure size 786.35x720 with 4 Axes>"
      ]
     },
     "metadata": {},
     "output_type": "display_data"
    }
   ],
   "source": [
    "order_list = ['wolf', 'hawk', 'bat', 'sparrow', 'snake', 'warbler']\n",
    "sns.catplot(x='animal', y='observations', hue='at_risk', data=all_obs_by_park_stacked, \\\n",
    "            col='park_name', col_wrap=2, order=order_list, kind='bar', height=5, aspect=1.0, sharey=False)"
   ]
  },
  {
   "cell_type": "markdown",
   "metadata": {},
   "source": [
    "As noted previously in the fictional dataset analysis, observations rates are nearly identical across the National Parks. Of the most frequently observed animals, warblers are observed the most but are also one of the least at risk; as expected, bats are most at risk."
   ]
  },
  {
   "cell_type": "markdown",
   "metadata": {},
   "source": [
    "***\n",
    "## Conclusions\n",
    "\n",
    "The project was able to make several insights into the various species across the four National Parks that comprised this data set. The analysis answered the following questions:\n",
    "- *What proportion of each category are `at_risk`?*\n",
    "    - The categories range from 1.0% to 17.0% `percent_at_risk`. The proportions fall into the categories:\n",
    "        - `Vascular Plant`: 1.1%\n",
    "        - `Nonvascular Plant`: 1.5%\n",
    "        - `Reptile`: 6.4%\n",
    "        - `Amphibian`: 8.9%\n",
    "        - `Fish`: 8.8%\n",
    "        - `Bird`: 15.4%\n",
    "        - `Mammal`: 17.0%\n",
    "- *Are certain categories more likely to be at risk?*\n",
    "    - *Are Mammals more likely to be at risk than Birds?*\n",
    "        - Mammals are not more likely to be at risk than Birds as indicated by p-value 0.688.\n",
    "    - *Are Mammals more likely to be at risk than Fish?*\n",
    "        - Mammals are not more likely to be at risk than Fish as indicated by p-value 0.056.\n",
    "    - *Are Mammals more likely to be at risk than Reptiles?*\n",
    "        - Mammals are more likely to be at risk than Reptiles as indicated by p-value 0.038. \n",
    "        - We can deduce that Mammals are also more likely to be at risk than Nonvascular and Vascular Plants.\n",
    "        - We can also deduce that Mammals are not more likely to be at risk than Birds, Fish, and Amphibians.\n",
    "- *How often were the most frequently observed animals (Bats, Hawks, Warblers, Wolves, Sparrows, and Snakes) seen at each National Park, and how many observations were of `at_risk` animals?*\n",
    "    - Of the most frequently observed animals, Warblers are observed the most but are also one of the least at risk; as expected, Bats are most at risk."
   ]
  }
 ],
 "metadata": {
  "kernelspec": {
   "display_name": "Python 3",
   "language": "python",
   "name": "python3"
  },
  "language_info": {
   "codemirror_mode": {
    "name": "ipython",
    "version": 3
   },
   "file_extension": ".py",
   "mimetype": "text/x-python",
   "name": "python",
   "nbconvert_exporter": "python",
   "pygments_lexer": "ipython3",
   "version": "3.8.8"
  }
 },
 "nbformat": 4,
 "nbformat_minor": 4
}
